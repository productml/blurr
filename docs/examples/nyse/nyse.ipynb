{
 "cells": [
  {
   "cell_type": "markdown",
   "metadata": {},
   "source": [
    "# NYSE & Blurr\n",
    "\n",
    "In this guide we will train a machine learning model that predicts closing price of a stock based on historical data. We will transform time-series stock data into features to train this model. \n",
    "\n",
    "## Prerequisites\n",
    "\n",
    "It's recommended to have a basic understanding of how Blurr works. Following [tutorials 1](http://productml-blurr.readthedocs.io/en/latest/Streaming%20DTC%20Tutorial/) and [2](http://productml-blurr.readthedocs.io/en/latest/Window%20DTC%20Tutorial/) should provide enough background context.\n",
    "\n",
    "\n",
    "## Preparation\n",
    "\n",
    "Let's start by installing `Blurr` and other required dependencies:"
   ]
  },
  {
   "cell_type": "code",
   "execution_count": 1,
   "metadata": {},
   "outputs": [
    {
     "name": "stdout",
     "output_type": "stream",
     "text": [
      "installing blurr, keras and tensorflow...\n",
      "done.\n"
     ]
    }
   ],
   "source": [
    "import sys\n",
    "\n",
    "print(\"installing blurr, keras and tensorflow...\")\n",
    "!{sys.executable} -m pip install blurr-dev --quiet\n",
    "!{sys.executable} -m pip install keras --quiet\n",
    "!{sys.executable} -m pip install tensorflow --quiet\n",
    "print(\"done.\")"
   ]
  },
  {
   "cell_type": "markdown",
   "metadata": {},
   "source": [
    "## The Dataset\n",
    "\n",
    "This walkthrough is based on [New York Stock Exchange Data](https://www.kaggle.com/dgawlik/nyse/data) made available for [Kaggle challenges](https://www.kaggle.com/dgawlik/nyse).\n",
    "\n",
    "Let's start by downloading and having a peek at the available data: "
   ]
  },
  {
   "cell_type": "code",
   "execution_count": 2,
   "metadata": {},
   "outputs": [
    {
     "name": "stdout",
     "output_type": "stream",
     "text": [
      "--2018-05-02 16:26:07--  http://demo.productml.com/data/prices-split-adjusted.json.zip\n",
      "Resolving demo.productml.com (demo.productml.com)... 52.218.160.7\n",
      "Connecting to demo.productml.com (demo.productml.com)|52.218.160.7|:80... connected.\n",
      "HTTP request sent, awaiting response... 200 OK\n",
      "Length: 22162139 (21M) [application/zip]\n",
      "Saving to: ‘prices-split-adjusted.json.zip’\n",
      "\n",
      "prices-split-adjust 100%[===================>]  21.13M   314KB/s    in 65s     \n",
      "\n",
      "2018-05-02 16:27:13 (334 KB/s) - ‘prices-split-adjusted.json.zip’ saved [22162139/22162139]\n",
      "\n",
      "Archive:  prices-split-adjusted.json.zip\n",
      "  inflating: ./prices-split-adjusted.json  \n"
     ]
    }
   ],
   "source": [
    "!wget http://demo.productml.com/data/prices-split-adjusted.json.zip\n",
    "!unzip -o prices-split-adjusted.json.zip -d ."
   ]
  },
  {
   "cell_type": "code",
   "execution_count": 3,
   "metadata": {},
   "outputs": [
    {
     "data": {
      "text/html": [
       "<div>\n",
       "<table border=\"1\" class=\"dataframe\">\n",
       "  <thead>\n",
       "    <tr style=\"text-align: right;\">\n",
       "      <th></th>\n",
       "      <th>close</th>\n",
       "      <th>date</th>\n",
       "      <th>high</th>\n",
       "      <th>low</th>\n",
       "      <th>open</th>\n",
       "      <th>symbol</th>\n",
       "      <th>volume</th>\n",
       "    </tr>\n",
       "  </thead>\n",
       "  <tbody>\n",
       "    <tr>\n",
       "      <th>0</th>\n",
       "      <td>125.839996</td>\n",
       "      <td>2016-01-05</td>\n",
       "      <td>126.250000</td>\n",
       "      <td>122.309998</td>\n",
       "      <td>123.430000</td>\n",
       "      <td>WLTW</td>\n",
       "      <td>2163600</td>\n",
       "    </tr>\n",
       "    <tr>\n",
       "      <th>1</th>\n",
       "      <td>119.980003</td>\n",
       "      <td>2016-01-06</td>\n",
       "      <td>125.540001</td>\n",
       "      <td>119.940002</td>\n",
       "      <td>125.239998</td>\n",
       "      <td>WLTW</td>\n",
       "      <td>2386400</td>\n",
       "    </tr>\n",
       "    <tr>\n",
       "      <th>2</th>\n",
       "      <td>114.949997</td>\n",
       "      <td>2016-01-07</td>\n",
       "      <td>119.739998</td>\n",
       "      <td>114.930000</td>\n",
       "      <td>116.379997</td>\n",
       "      <td>WLTW</td>\n",
       "      <td>2489500</td>\n",
       "    </tr>\n",
       "    <tr>\n",
       "      <th>3</th>\n",
       "      <td>116.620003</td>\n",
       "      <td>2016-01-08</td>\n",
       "      <td>117.440002</td>\n",
       "      <td>113.500000</td>\n",
       "      <td>115.480003</td>\n",
       "      <td>WLTW</td>\n",
       "      <td>2006300</td>\n",
       "    </tr>\n",
       "    <tr>\n",
       "      <th>4</th>\n",
       "      <td>114.970001</td>\n",
       "      <td>2016-01-11</td>\n",
       "      <td>117.330002</td>\n",
       "      <td>114.089996</td>\n",
       "      <td>117.010002</td>\n",
       "      <td>WLTW</td>\n",
       "      <td>1408600</td>\n",
       "    </tr>\n",
       "  </tbody>\n",
       "</table>\n",
       "</div>"
      ],
      "text/plain": [
       "        close       date        high         low        open symbol   volume\n",
       "0  125.839996 2016-01-05  126.250000  122.309998  123.430000   WLTW  2163600\n",
       "1  119.980003 2016-01-06  125.540001  119.940002  125.239998   WLTW  2386400\n",
       "2  114.949997 2016-01-07  119.739998  114.930000  116.379997   WLTW  2489500\n",
       "3  116.620003 2016-01-08  117.440002  113.500000  115.480003   WLTW  2006300\n",
       "4  114.970001 2016-01-11  117.330002  114.089996  117.010002   WLTW  1408600"
      ]
     },
     "execution_count": 3,
     "metadata": {},
     "output_type": "execute_result"
    }
   ],
   "source": [
    "import pandas as pd\n",
    "\n",
    "stocks = pd.read_json(\"./prices-split-adjusted.json\", lines=True)\n",
    "stocks.head()"
   ]
  },
  {
   "cell_type": "markdown",
   "metadata": {},
   "source": [
    "This dataset contains data for each market day.\n",
    "\n",
    "Our **goal is to predict closing price** of a stock for any given day based on historical data. In order to do that, we need to transform our original data source into **features** that can be used for training.\n",
    "\n",
    "We'll calculate **moving averages** and other aggregate data for different **time windows**: one, three and seven days.\n",
    "\n",
    "## Blurr Templates\n",
    "\n",
    "We perform initial transformation of our data with [nyse-streaming-dtc.yml](./nyse-streaming-dtc.yml). Data is then aggregated by time using [nyse-window-dtc.yml](./nyse-window-dtc.yml)."
   ]
  },
  {
   "cell_type": "code",
   "execution_count": 4,
   "metadata": {},
   "outputs": [
    {
     "name": "stdout",
     "output_type": "stream",
     "text": [
      "Type: 'Blurr:Transform:Streaming'\r\n",
      "Version: '2018-03-01'\r\n",
      "Description: New York Store Exchange Transformations\r\n",
      "Name: nyse\r\n",
      "\r\n",
      "Import:\r\n",
      "  - { Module: datetime, Identifiers: [ datetime ] }\r\n",
      "\r\n",
      "Identity: source.symbol\r\n",
      "\r\n",
      "Time: datetime.strptime(source.date, '%Y-%m-%d')\r\n",
      "\r\n",
      "Stores:\r\n",
      "  - Type: 'Blurr:Store:Memory'\r\n",
      "    Name: memory\r\n",
      "\r\n",
      "Aggregates:\r\n",
      "  - Type: 'Blurr:Aggregate:Block'\r\n",
      "    Name: stats\r\n",
      "    Store: memory\r\n",
      "    Split: True\r\n",
      "    When: source.symbol in ['AAPL', 'MSFT', 'GOOG', 'FB']\r\n",
      "    Fields:\r\n",
      "      - Name: close\r\n",
      "        Type: float\r\n",
      "        Value: source.close\r\n",
      "\r\n",
      "      - Name: volatility\r\n",
      "        Type: float\r\n",
      "        Value: (float(source.high) / float(source.low)) - 1\r\n",
      "\r\n",
      "      - Name: volume\r\n",
      "        Type: float\r\n",
      "        Value: source.volume"
     ]
    }
   ],
   "source": [
    "!cat nyse-streaming-dtc.yml"
   ]
  },
  {
   "cell_type": "markdown",
   "metadata": {},
   "source": [
    "**Streaming DTC**\n",
    "\n",
    "We're predicting values for tech companies only (Apple, Facebook, Microsoft, Google):\n",
    "\n",
    "```yaml\n",
    "When: source.symbol in ['AAPL', 'MSFT', 'GOOG', 'FB']\n",
    "```\n",
    "\n",
    "Each record in the original dataset represents a single day, which is the same we need to feed our window transformation. By setting `Split: True` we'll create a new aggregate for each single dataset record.\n"
   ]
  },
  {
   "cell_type": "code",
   "execution_count": 5,
   "metadata": {},
   "outputs": [
    {
     "name": "stdout",
     "output_type": "stream",
     "text": [
      "Type: Blurr:Transform:Window\r\n",
      "Version: '2018-03-01'\r\n",
      "Name: moving_averages\r\n",
      "\r\n",
      "SourceDTC: nyse\r\n",
      "\r\n",
      "Anchor:\r\n",
      "  Condition: nyse.stats.volatility < 0.04\r\n",
      "\r\n",
      "Aggregates:\r\n",
      "\r\n",
      "\r\n",
      "  - Type: Blurr:Aggregate:Window\r\n",
      "    Name: close\r\n",
      "    WindowType: count\r\n",
      "    WindowValue: 1\r\n",
      "    Source: nyse.stats\r\n",
      "    Fields:\r\n",
      "    - Name: value\r\n",
      "      Type: float\r\n",
      "      Value: anchor.close\r\n",
      "\r\n",
      "  - Type: Blurr:Aggregate:Window\r\n",
      "    Name: last\r\n",
      "    WindowType: count\r\n",
      "    WindowValue: -1\r\n",
      "    Source: nyse.stats\r\n",
      "    Fields:\r\n",
      "    - Name: close\r\n",
      "      Type: float\r\n",
      "      Value: source.close[0]\r\n",
      "    - Name: volume\r\n",
      "      Type: float\r\n",
      "      Value: source.volume[0]\r\n",
      "    - Name: volatility\r\n",
      "      Type: float\r\n",
      "      Value: source.volatility[0]\r\n",
      "\r\n",
      "  - Type: Blurr:Aggregate:Window\r\n",
      "    Name: last_3\r\n",
      "    WindowType: count\r\n",
      "    WindowValue: -3\r\n",
      "    Source: nyse.stats\r\n",
      "    Fields:\r\n",
      "    - Name: close_avg\r\n",
      "      Type: float\r\n",
      "      Value: sum(source.close) / len(source.close)\r\n",
      "    - Name: volume_avg\r\n",
      "      Type: float\r\n",
      "      Value: sum(source.volume) / len(source.volume)\r\n",
      "    - Name: volatility_avg\r\n",
      "      Type: float\r\n",
      "      Value: sum(source.volatility) / len(source.volatility)\r\n",
      "    - Name: max_volatility\r\n",
      "      Type: float\r\n",
      "      Value: max(source.volatility)\r\n",
      "    - Name: min_volatility\r\n",
      "      Type: float\r\n",
      "      Value: min(source.volatility)\r\n",
      "\r\n",
      "  - Type: Blurr:Aggregate:Window\r\n",
      "    Name: last_7\r\n",
      "    WindowType: count\r\n",
      "    WindowValue: -7\r\n",
      "    Source: nyse.stats\r\n",
      "    Fields:\r\n",
      "    - Name: close_avg\r\n",
      "      Type: float\r\n",
      "      Value: sum(source.close) / len(source.close)\r\n",
      "    - Name: volume_avg\r\n",
      "      Type: float\r\n",
      "      Value: sum(source.volume) / len(source.volume)\r\n",
      "    - Name: volatility_avg\r\n",
      "      Type: float\r\n",
      "      Value: sum(source.volatility) / len(source.volatility)\r\n",
      "    - Name: max_volatility\r\n",
      "      Type: float\r\n",
      "      Value: max(source.volatility)\r\n",
      "    - Name: min_volatility\r\n",
      "      Type: float\r\n",
      "      Value: min(source.volatility)"
     ]
    }
   ],
   "source": [
    "!cat 'nyse-window-dtc.yml'"
   ]
  },
  {
   "cell_type": "markdown",
   "metadata": {},
   "source": [
    "**Window DTC**\n",
    "\n",
    "We'll use a very rough criteria to remove outliers: our model will only work when closing price changes less than a 4%:\n",
    "\n",
    "```yaml\n",
    "Anchor:\n",
    "  Condition: nyse.stats.volatility < 0.04\n",
    "```\n",
    "\n",
    "We're using [moving averages](https://www.investopedia.com/terms/m/movingaverage.asp) to generate features based on historical data about a stock:\n",
    "\n",
    "```yaml\n",
    "- Type: Blurr:Aggregate:Window\n",
    "    Name: last_7\n",
    "    WindowType: count\n",
    "    WindowValue: -7\n",
    "    Source: nyse.stats\n",
    "    Fields:\n",
    "    - Name: close_avg\n",
    "      Type: float\n",
    "      Value: sum(source.close) / len(source.close)\n",
    "```\n",
    "\n",
    "\n",
    "## Transforming Data\n",
    "\n"
   ]
  },
  {
   "cell_type": "code",
   "execution_count": 6,
   "metadata": {},
   "outputs": [
    {
     "name": "stdout",
     "output_type": "stream",
     "text": [
      "Running syntax validation on nyse-streaming-dtc.yml\n",
      "Document is valid\n",
      "Running syntax validation on nyse-window-dtc.yml\n",
      "Document is valid\n"
     ]
    }
   ],
   "source": [
    "from blurr_util import print_head, validate, transform\n",
    "\n",
    "validate('nyse-streaming-dtc.yml')\n",
    "validate('nyse-window-dtc.yml')"
   ]
  },
  {
   "cell_type": "markdown",
   "metadata": {},
   "source": [
    "Let's run our Streaming DTC for informational purposes only, so we can preview the result of the transformation:"
   ]
  },
  {
   "cell_type": "code",
   "execution_count": 7,
   "metadata": {},
   "outputs": [],
   "source": [
    "transform(log_files=[\"./prices-split-adjusted.json\"],\n",
    "          stream_dtc='./nyse-streaming-dtc.yml',\n",
    "          output_file=\"./nyse-streaming-dtc-out.log\")"
   ]
  },
  {
   "cell_type": "code",
   "execution_count": 8,
   "metadata": {},
   "outputs": [
    {
     "data": {
      "text/html": [
       "<table><tr><th>_identity<th><th>_start_time<th><th>_end_time<th><th>close<th><th>volatility<th><th>volume<th></tr><tr><td>AAPL<td><td>2010-01-04T00:00:00<td><td>2010-01-04T00:00:00<td><td>30.5728568571<td><td>0.009982083954336085<td><td>123432400.0<td></tr><tr><td>AAPL<td><td>2010-01-05T00:00:00<td><td>2010-01-05T00:00:00<td><td>30.6257132857<td><td>0.010973036651542811<td><td>150476200.0<td></tr><tr><td>AAPL<td><td>2010-01-06T00:00:00<td><td>2010-01-06T00:00:00<td><td>30.1385707143<td><td>0.02125739461533116<td><td>138040000.0<td></tr><tr><td>AAPL<td><td>2010-01-07T00:00:00<td><td>2010-01-07T00:00:00<td><td>30.0828571428<td><td>0.014111461035875461<td><td>119282800.0<td></tr></table>"
      ],
      "text/plain": [
       "<IPython.core.display.HTML object>"
      ]
     },
     "metadata": {},
     "output_type": "display_data"
    }
   ],
   "source": [
    "print_head(\"./nyse-streaming-dtc-out.log\")"
   ]
  },
  {
   "cell_type": "code",
   "execution_count": 9,
   "metadata": {},
   "outputs": [],
   "source": [
    "transform(log_files=[\"./prices-split-adjusted.json\"],\n",
    "          stream_dtc='./nyse-streaming-dtc.yml',\n",
    "          window_dtc='./nyse-window-dtc.yml',\n",
    "          output_file=\"./nyse-processed-data.csv\")"
   ]
  },
  {
   "cell_type": "markdown",
   "metadata": {},
   "source": [
    "Let's now preview the data that will be used to **train our model**"
   ]
  },
  {
   "cell_type": "code",
   "execution_count": 10,
   "metadata": {},
   "outputs": [
    {
     "data": {
      "text/html": [
       "<div>\n",
       "<table border=\"1\" class=\"dataframe\">\n",
       "  <thead>\n",
       "    <tr style=\"text-align: right;\">\n",
       "      <th></th>\n",
       "      <th>close._identity</th>\n",
       "      <th>close.value</th>\n",
       "      <th>last._identity</th>\n",
       "      <th>last.close</th>\n",
       "      <th>last.volatility</th>\n",
       "      <th>last.volume</th>\n",
       "      <th>last_3._identity</th>\n",
       "      <th>last_3.close_avg</th>\n",
       "      <th>last_3.max_volatility</th>\n",
       "      <th>last_3.min_volatility</th>\n",
       "      <th>last_3.volatility_avg</th>\n",
       "      <th>last_3.volume_avg</th>\n",
       "      <th>last_7._identity</th>\n",
       "      <th>last_7.close_avg</th>\n",
       "      <th>last_7.max_volatility</th>\n",
       "      <th>last_7.min_volatility</th>\n",
       "      <th>last_7.volatility_avg</th>\n",
       "      <th>last_7.volume_avg</th>\n",
       "    </tr>\n",
       "  </thead>\n",
       "  <tbody>\n",
       "    <tr>\n",
       "      <th>0</th>\n",
       "      <td>AAPL</td>\n",
       "      <td>30.092857</td>\n",
       "      <td>AAPL</td>\n",
       "      <td>29.674286</td>\n",
       "      <td>0.016229</td>\n",
       "      <td>148614900.0</td>\n",
       "      <td>AAPL</td>\n",
       "      <td>29.990953</td>\n",
       "      <td>0.021828</td>\n",
       "      <td>0.014063</td>\n",
       "      <td>0.017373</td>\n",
       "      <td>1.253583e+08</td>\n",
       "      <td>AAPL</td>\n",
       "      <td>30.198979</td>\n",
       "      <td>0.021828</td>\n",
       "      <td>0.009982</td>\n",
       "      <td>0.015492</td>\n",
       "      <td>129615200.0</td>\n",
       "    </tr>\n",
       "    <tr>\n",
       "      <th>1</th>\n",
       "      <td>AAPL</td>\n",
       "      <td>29.918571</td>\n",
       "      <td>AAPL</td>\n",
       "      <td>30.092857</td>\n",
       "      <td>0.033464</td>\n",
       "      <td>151473000.0</td>\n",
       "      <td>AAPL</td>\n",
       "      <td>29.927619</td>\n",
       "      <td>0.033464</td>\n",
       "      <td>0.016229</td>\n",
       "      <td>0.023840</td>\n",
       "      <td>1.385484e+08</td>\n",
       "      <td>AAPL</td>\n",
       "      <td>30.130408</td>\n",
       "      <td>0.033464</td>\n",
       "      <td>0.010973</td>\n",
       "      <td>0.018847</td>\n",
       "      <td>133621000.0</td>\n",
       "    </tr>\n",
       "    <tr>\n",
       "      <th>2</th>\n",
       "      <td>AAPL</td>\n",
       "      <td>29.418571</td>\n",
       "      <td>AAPL</td>\n",
       "      <td>29.918571</td>\n",
       "      <td>0.006889</td>\n",
       "      <td>108223500.0</td>\n",
       "      <td>AAPL</td>\n",
       "      <td>29.895238</td>\n",
       "      <td>0.033464</td>\n",
       "      <td>0.006889</td>\n",
       "      <td>0.018861</td>\n",
       "      <td>1.361038e+08</td>\n",
       "      <td>AAPL</td>\n",
       "      <td>30.029388</td>\n",
       "      <td>0.033464</td>\n",
       "      <td>0.006889</td>\n",
       "      <td>0.018263</td>\n",
       "      <td>127584900.0</td>\n",
       "    </tr>\n",
       "    <tr>\n",
       "      <th>3</th>\n",
       "      <td>AAPL</td>\n",
       "      <td>30.719999</td>\n",
       "      <td>AAPL</td>\n",
       "      <td>29.418571</td>\n",
       "      <td>0.027833</td>\n",
       "      <td>148516900.0</td>\n",
       "      <td>AAPL</td>\n",
       "      <td>29.810000</td>\n",
       "      <td>0.033464</td>\n",
       "      <td>0.006889</td>\n",
       "      <td>0.022729</td>\n",
       "      <td>1.360711e+08</td>\n",
       "      <td>AAPL</td>\n",
       "      <td>29.926531</td>\n",
       "      <td>0.033464</td>\n",
       "      <td>0.006889</td>\n",
       "      <td>0.019203</td>\n",
       "      <td>129081600.0</td>\n",
       "    </tr>\n",
       "    <tr>\n",
       "      <th>4</th>\n",
       "      <td>AAPL</td>\n",
       "      <td>30.247143</td>\n",
       "      <td>AAPL</td>\n",
       "      <td>30.719999</td>\n",
       "      <td>0.038361</td>\n",
       "      <td>182501900.0</td>\n",
       "      <td>AAPL</td>\n",
       "      <td>30.019047</td>\n",
       "      <td>0.038361</td>\n",
       "      <td>0.006889</td>\n",
       "      <td>0.024361</td>\n",
       "      <td>1.464141e+08</td>\n",
       "      <td>AAPL</td>\n",
       "      <td>30.017551</td>\n",
       "      <td>0.038361</td>\n",
       "      <td>0.006889</td>\n",
       "      <td>0.022667</td>\n",
       "      <td>138112900.0</td>\n",
       "    </tr>\n",
       "  </tbody>\n",
       "</table>\n",
       "</div>"
      ],
      "text/plain": [
       "  close._identity  close.value last._identity  last.close  last.volatility  \\\n",
       "0            AAPL    30.092857           AAPL   29.674286         0.016229   \n",
       "1            AAPL    29.918571           AAPL   30.092857         0.033464   \n",
       "2            AAPL    29.418571           AAPL   29.918571         0.006889   \n",
       "3            AAPL    30.719999           AAPL   29.418571         0.027833   \n",
       "4            AAPL    30.247143           AAPL   30.719999         0.038361   \n",
       "\n",
       "   last.volume last_3._identity  last_3.close_avg  last_3.max_volatility  \\\n",
       "0  148614900.0             AAPL         29.990953               0.021828   \n",
       "1  151473000.0             AAPL         29.927619               0.033464   \n",
       "2  108223500.0             AAPL         29.895238               0.033464   \n",
       "3  148516900.0             AAPL         29.810000               0.033464   \n",
       "4  182501900.0             AAPL         30.019047               0.038361   \n",
       "\n",
       "   last_3.min_volatility  last_3.volatility_avg  last_3.volume_avg  \\\n",
       "0               0.014063               0.017373       1.253583e+08   \n",
       "1               0.016229               0.023840       1.385484e+08   \n",
       "2               0.006889               0.018861       1.361038e+08   \n",
       "3               0.006889               0.022729       1.360711e+08   \n",
       "4               0.006889               0.024361       1.464141e+08   \n",
       "\n",
       "  last_7._identity  last_7.close_avg  last_7.max_volatility  \\\n",
       "0             AAPL         30.198979               0.021828   \n",
       "1             AAPL         30.130408               0.033464   \n",
       "2             AAPL         30.029388               0.033464   \n",
       "3             AAPL         29.926531               0.033464   \n",
       "4             AAPL         30.017551               0.038361   \n",
       "\n",
       "   last_7.min_volatility  last_7.volatility_avg  last_7.volume_avg  \n",
       "0               0.009982               0.015492        129615200.0  \n",
       "1               0.010973               0.018847        133621000.0  \n",
       "2               0.006889               0.018263        127584900.0  \n",
       "3               0.006889               0.019203        129081600.0  \n",
       "4               0.006889               0.022667        138112900.0  "
      ]
     },
     "execution_count": 10,
     "metadata": {},
     "output_type": "execute_result"
    }
   ],
   "source": [
    "window_out = pd.read_csv(\"./nyse-processed-data.csv\")\n",
    "window_out.head()"
   ]
  },
  {
   "cell_type": "markdown",
   "metadata": {},
   "source": [
    "## Modelling\n",
    "\n",
    "**Blurr** is about Data Preparation and Feature Engineering. Modeling is included here for illustration purpose, and the reader can use any modeling library or tool for such purpose.\n",
    "\n",
    "Let's start by importing the output of our Window DTC as the source dataset. We're dropping unnecessary `_identity` columns:"
   ]
  },
  {
   "cell_type": "code",
   "execution_count": 11,
   "metadata": {},
   "outputs": [
    {
     "data": {
      "text/html": [
       "<div>\n",
       "<table border=\"1\" class=\"dataframe\">\n",
       "  <thead>\n",
       "    <tr style=\"text-align: right;\">\n",
       "      <th></th>\n",
       "      <th>last.close</th>\n",
       "      <th>last.volatility</th>\n",
       "      <th>last.volume</th>\n",
       "      <th>last_3.close_avg</th>\n",
       "      <th>last_3.max_volatility</th>\n",
       "      <th>last_3.min_volatility</th>\n",
       "      <th>last_3.volatility_avg</th>\n",
       "      <th>last_3.volume_avg</th>\n",
       "      <th>last_7.close_avg</th>\n",
       "      <th>last_7.max_volatility</th>\n",
       "      <th>last_7.min_volatility</th>\n",
       "      <th>last_7.volatility_avg</th>\n",
       "      <th>last_7.volume_avg</th>\n",
       "      <th>close</th>\n",
       "    </tr>\n",
       "  </thead>\n",
       "  <tbody>\n",
       "    <tr>\n",
       "      <th>0</th>\n",
       "      <td>29.674286</td>\n",
       "      <td>0.016229</td>\n",
       "      <td>148614900.0</td>\n",
       "      <td>29.990953</td>\n",
       "      <td>0.021828</td>\n",
       "      <td>0.014063</td>\n",
       "      <td>0.017373</td>\n",
       "      <td>1.253583e+08</td>\n",
       "      <td>30.198979</td>\n",
       "      <td>0.021828</td>\n",
       "      <td>0.009982</td>\n",
       "      <td>0.015492</td>\n",
       "      <td>129615200.0</td>\n",
       "      <td>30.092857</td>\n",
       "    </tr>\n",
       "    <tr>\n",
       "      <th>1</th>\n",
       "      <td>30.092857</td>\n",
       "      <td>0.033464</td>\n",
       "      <td>151473000.0</td>\n",
       "      <td>29.927619</td>\n",
       "      <td>0.033464</td>\n",
       "      <td>0.016229</td>\n",
       "      <td>0.023840</td>\n",
       "      <td>1.385484e+08</td>\n",
       "      <td>30.130408</td>\n",
       "      <td>0.033464</td>\n",
       "      <td>0.010973</td>\n",
       "      <td>0.018847</td>\n",
       "      <td>133621000.0</td>\n",
       "      <td>29.918571</td>\n",
       "    </tr>\n",
       "    <tr>\n",
       "      <th>2</th>\n",
       "      <td>29.918571</td>\n",
       "      <td>0.006889</td>\n",
       "      <td>108223500.0</td>\n",
       "      <td>29.895238</td>\n",
       "      <td>0.033464</td>\n",
       "      <td>0.006889</td>\n",
       "      <td>0.018861</td>\n",
       "      <td>1.361038e+08</td>\n",
       "      <td>30.029388</td>\n",
       "      <td>0.033464</td>\n",
       "      <td>0.006889</td>\n",
       "      <td>0.018263</td>\n",
       "      <td>127584900.0</td>\n",
       "      <td>29.418571</td>\n",
       "    </tr>\n",
       "    <tr>\n",
       "      <th>3</th>\n",
       "      <td>29.418571</td>\n",
       "      <td>0.027833</td>\n",
       "      <td>148516900.0</td>\n",
       "      <td>29.810000</td>\n",
       "      <td>0.033464</td>\n",
       "      <td>0.006889</td>\n",
       "      <td>0.022729</td>\n",
       "      <td>1.360711e+08</td>\n",
       "      <td>29.926531</td>\n",
       "      <td>0.033464</td>\n",
       "      <td>0.006889</td>\n",
       "      <td>0.019203</td>\n",
       "      <td>129081600.0</td>\n",
       "      <td>30.719999</td>\n",
       "    </tr>\n",
       "    <tr>\n",
       "      <th>4</th>\n",
       "      <td>30.719999</td>\n",
       "      <td>0.038361</td>\n",
       "      <td>182501900.0</td>\n",
       "      <td>30.019047</td>\n",
       "      <td>0.038361</td>\n",
       "      <td>0.006889</td>\n",
       "      <td>0.024361</td>\n",
       "      <td>1.464141e+08</td>\n",
       "      <td>30.017551</td>\n",
       "      <td>0.038361</td>\n",
       "      <td>0.006889</td>\n",
       "      <td>0.022667</td>\n",
       "      <td>138112900.0</td>\n",
       "      <td>30.247143</td>\n",
       "    </tr>\n",
       "  </tbody>\n",
       "</table>\n",
       "</div>"
      ],
      "text/plain": [
       "   last.close  last.volatility  last.volume  last_3.close_avg  \\\n",
       "0   29.674286         0.016229  148614900.0         29.990953   \n",
       "1   30.092857         0.033464  151473000.0         29.927619   \n",
       "2   29.918571         0.006889  108223500.0         29.895238   \n",
       "3   29.418571         0.027833  148516900.0         29.810000   \n",
       "4   30.719999         0.038361  182501900.0         30.019047   \n",
       "\n",
       "   last_3.max_volatility  last_3.min_volatility  last_3.volatility_avg  \\\n",
       "0               0.021828               0.014063               0.017373   \n",
       "1               0.033464               0.016229               0.023840   \n",
       "2               0.033464               0.006889               0.018861   \n",
       "3               0.033464               0.006889               0.022729   \n",
       "4               0.038361               0.006889               0.024361   \n",
       "\n",
       "   last_3.volume_avg  last_7.close_avg  last_7.max_volatility  \\\n",
       "0       1.253583e+08         30.198979               0.021828   \n",
       "1       1.385484e+08         30.130408               0.033464   \n",
       "2       1.361038e+08         30.029388               0.033464   \n",
       "3       1.360711e+08         29.926531               0.033464   \n",
       "4       1.464141e+08         30.017551               0.038361   \n",
       "\n",
       "   last_7.min_volatility  last_7.volatility_avg  last_7.volume_avg      close  \n",
       "0               0.009982               0.015492        129615200.0  30.092857  \n",
       "1               0.010973               0.018847        133621000.0  29.918571  \n",
       "2               0.006889               0.018263        127584900.0  29.418571  \n",
       "3               0.006889               0.019203        129081600.0  30.719999  \n",
       "4               0.006889               0.022667        138112900.0  30.247143  "
      ]
     },
     "execution_count": 11,
     "metadata": {},
     "output_type": "execute_result"
    }
   ],
   "source": [
    "import numpy as np\n",
    "import matplotlib.pyplot as plt\n",
    "import pandas as pd\n",
    "\n",
    "def import_dataset():\n",
    "    data = pd.read_csv(\"./nyse-processed-data.csv\")\n",
    "    data[\"close\"] = data[\"close.value\"] # Moving close to the last column\n",
    "    data.drop(['close.value'], 1, inplace=True) \n",
    "    data.drop(['close._identity'], 1, inplace=True) \n",
    "    data.drop(['last._identity'], 1, inplace=True) \n",
    "    data.drop(['last_3._identity'], 1, inplace=True) \n",
    "    data.drop(['last_7._identity'], 1, inplace=True) \n",
    "    return data\n",
    "\n",
    "dataset = import_dataset()\n",
    "dataset.head()"
   ]
  },
  {
   "cell_type": "markdown",
   "metadata": {},
   "source": [
    "Each column represents a Feature, except the rightmost column which represents the Output we're trying to predic"
   ]
  },
  {
   "cell_type": "code",
   "execution_count": 12,
   "metadata": {},
   "outputs": [
    {
     "name": "stdout",
     "output_type": "stream",
     "text": [
      "#features=13\n"
     ]
    }
   ],
   "source": [
    "feature_count = len(dataset.columns) - 1\n",
    "print(\"#features=\" + str(feature_count))"
   ]
  },
  {
   "cell_type": "markdown",
   "metadata": {},
   "source": [
    "We're splitting our dataset into Input Variables (`X`) and the Output Variable (`Y`) using pandas' [`iloc` function](http://pandas.pydata.org/pandas-docs/version/0.17.0/generated/pandas.DataFrame.iloc.html):"
   ]
  },
  {
   "cell_type": "code",
   "execution_count": 13,
   "metadata": {},
   "outputs": [
    {
     "name": "stdout",
     "output_type": "stream",
     "text": [
      "(5978, 13)\n"
     ]
    }
   ],
   "source": [
    "X = dataset.iloc[:, 0:feature_count].values\n",
    "print(X.shape)"
   ]
  },
  {
   "cell_type": "code",
   "execution_count": 14,
   "metadata": {},
   "outputs": [
    {
     "name": "stdout",
     "output_type": "stream",
     "text": [
      "(5978,)\n"
     ]
    }
   ],
   "source": [
    "Y = dataset.iloc[:, feature_count].values\n",
    "print(Y.shape)"
   ]
  },
  {
   "cell_type": "markdown",
   "metadata": {},
   "source": [
    "We need to split between train and test datasets for training and evaluation of the model:"
   ]
  },
  {
   "cell_type": "code",
   "execution_count": 15,
   "metadata": {},
   "outputs": [],
   "source": [
    "from sklearn.model_selection import train_test_split\n",
    "\n",
    "X_train_raw, X_test_raw, Y_train_raw, Y_test_raw = train_test_split(X, Y, test_size = 0.2)"
   ]
  },
  {
   "cell_type": "markdown",
   "metadata": {},
   "source": [
    "Finally, we need to  scale our data before training:"
   ]
  },
  {
   "cell_type": "code",
   "execution_count": 16,
   "metadata": {},
   "outputs": [
    {
     "name": "stderr",
     "output_type": "stream",
     "text": [
      "/opt/conda/lib/python3.6/site-packages/sklearn/preprocessing/data.py:321: DeprecationWarning: Passing 1d arrays as data is deprecated in 0.17 and will raise ValueError in 0.19. Reshape your data either using X.reshape(-1, 1) if your data has a single feature or X.reshape(1, -1) if it contains a single sample.\n",
      "  warnings.warn(DEPRECATION_MSG_1D, DeprecationWarning)\n",
      "/opt/conda/lib/python3.6/site-packages/sklearn/preprocessing/data.py:356: DeprecationWarning: Passing 1d arrays as data is deprecated in 0.17 and will raise ValueError in 0.19. Reshape your data either using X.reshape(-1, 1) if your data has a single feature or X.reshape(1, -1) if it contains a single sample.\n",
      "  warnings.warn(DEPRECATION_MSG_1D, DeprecationWarning)\n",
      "/opt/conda/lib/python3.6/site-packages/sklearn/preprocessing/data.py:356: DeprecationWarning: Passing 1d arrays as data is deprecated in 0.17 and will raise ValueError in 0.19. Reshape your data either using X.reshape(-1, 1) if your data has a single feature or X.reshape(1, -1) if it contains a single sample.\n",
      "  warnings.warn(DEPRECATION_MSG_1D, DeprecationWarning)\n"
     ]
    }
   ],
   "source": [
    "from sklearn.preprocessing import MinMaxScaler\n",
    "\n",
    "scaler = MinMaxScaler()\n",
    "X_train = scaler.fit_transform(X_train_raw)\n",
    "X_test = scaler.transform(X_test_raw)\n",
    "Y_train = scaler.fit_transform(Y_train_raw)\n",
    "Y_test = scaler.transform(Y_test_raw)"
   ]
  },
  {
   "cell_type": "markdown",
   "metadata": {},
   "source": [
    "It's now time to build and train our model:"
   ]
  },
  {
   "cell_type": "code",
   "execution_count": 17,
   "metadata": {},
   "outputs": [
    {
     "name": "stderr",
     "output_type": "stream",
     "text": [
      "Using TensorFlow backend.\n"
     ]
    }
   ],
   "source": [
    "# Importing the Keras libraries and packages\n",
    "\n",
    "import keras\n",
    "from keras.models import Sequential\n",
    "from keras.layers import Dense"
   ]
  },
  {
   "cell_type": "code",
   "execution_count": 18,
   "metadata": {},
   "outputs": [
    {
     "name": "stdout",
     "output_type": "stream",
     "text": [
      "Train on 4303 samples, validate on 479 samples\n",
      "Epoch 1/70\n",
      "4303/4303 [==============================] - 0s 88us/step - loss: 0.1013 - acc: 2.3240e-04 - val_loss: 0.0889 - val_acc: 0.0000e+00\n",
      "Epoch 2/70\n",
      "4303/4303 [==============================] - 0s 7us/step - loss: 0.0939 - acc: 2.3240e-04 - val_loss: 0.0803 - val_acc: 0.0000e+00\n",
      "Epoch 3/70\n",
      "4303/4303 [==============================] - 0s 9us/step - loss: 0.0825 - acc: 2.3240e-04 - val_loss: 0.0678 - val_acc: 0.0000e+00\n",
      "Epoch 4/70\n",
      "4303/4303 [==============================] - 0s 8us/step - loss: 0.0669 - acc: 2.3240e-04 - val_loss: 0.0535 - val_acc: 0.0000e+00\n",
      "Epoch 5/70\n",
      "4303/4303 [==============================] - 0s 8us/step - loss: 0.0518 - acc: 2.3240e-04 - val_loss: 0.0443 - val_acc: 0.0000e+00\n",
      "Epoch 6/70\n",
      "4303/4303 [==============================] - 0s 8us/step - loss: 0.0414 - acc: 2.3240e-04 - val_loss: 0.0338 - val_acc: 0.0000e+00\n",
      "Epoch 7/70\n",
      "4303/4303 [==============================] - 0s 17us/step - loss: 0.0287 - acc: 2.3240e-04 - val_loss: 0.0204 - val_acc: 0.0000e+00\n",
      "Epoch 8/70\n",
      "4303/4303 [==============================] - 0s 8us/step - loss: 0.0154 - acc: 4.6479e-04 - val_loss: 0.0083 - val_acc: 0.0000e+00\n",
      "Epoch 9/70\n",
      "4303/4303 [==============================] - 0s 9us/step - loss: 0.0049 - acc: 4.6479e-04 - val_loss: 0.0017 - val_acc: 0.0000e+00\n",
      "Epoch 10/70\n",
      "4303/4303 [==============================] - 0s 10us/step - loss: 0.0010 - acc: 4.6479e-04 - val_loss: 7.4279e-04 - val_acc: 0.0000e+00\n",
      "Epoch 11/70\n",
      "4303/4303 [==============================] - 0s 10us/step - loss: 7.9136e-04 - acc: 4.6479e-04 - val_loss: 8.5862e-04 - val_acc: 0.0000e+00\n",
      "Epoch 12/70\n",
      "4303/4303 [==============================] - 0s 9us/step - loss: 8.6798e-04 - acc: 4.6479e-04 - val_loss: 7.8711e-04 - val_acc: 0.0000e+00\n",
      "Epoch 13/70\n",
      "4303/4303 [==============================] - 0s 10us/step - loss: 7.2163e-04 - acc: 4.6479e-04 - val_loss: 6.3454e-04 - val_acc: 0.0000e+00\n",
      "Epoch 14/70\n",
      "4303/4303 [==============================] - 0s 9us/step - loss: 5.7548e-04 - acc: 4.6479e-04 - val_loss: 5.5086e-04 - val_acc: 0.0000e+00\n",
      "Epoch 15/70\n",
      "4303/4303 [==============================] - 0s 7us/step - loss: 5.2260e-04 - acc: 4.6479e-04 - val_loss: 5.2969e-04 - val_acc: 0.0000e+00\n",
      "Epoch 16/70\n",
      "4303/4303 [==============================] - 0s 9us/step - loss: 5.0104e-04 - acc: 4.6479e-04 - val_loss: 4.9973e-04 - val_acc: 0.0000e+00\n",
      "Epoch 17/70\n",
      "4303/4303 [==============================] - 0s 7us/step - loss: 4.7037e-04 - acc: 4.6479e-04 - val_loss: 4.6564e-04 - val_acc: 0.0000e+00\n",
      "Epoch 18/70\n",
      "4303/4303 [==============================] - 0s 8us/step - loss: 4.4491e-04 - acc: 4.6479e-04 - val_loss: 4.4358e-04 - val_acc: 0.0000e+00\n",
      "Epoch 19/70\n",
      "4303/4303 [==============================] - 0s 9us/step - loss: 4.2526e-04 - acc: 4.6479e-04 - val_loss: 4.2346e-04 - val_acc: 0.0000e+00\n",
      "Epoch 20/70\n",
      "4303/4303 [==============================] - 0s 9us/step - loss: 4.0683e-04 - acc: 4.6479e-04 - val_loss: 4.0460e-04 - val_acc: 0.0000e+00\n",
      "Epoch 21/70\n",
      "4303/4303 [==============================] - 0s 7us/step - loss: 3.8903e-04 - acc: 4.6479e-04 - val_loss: 3.8761e-04 - val_acc: 0.0000e+00\n",
      "Epoch 22/70\n",
      "4303/4303 [==============================] - 0s 8us/step - loss: 3.7150e-04 - acc: 4.6479e-04 - val_loss: 3.6949e-04 - val_acc: 0.0000e+00\n",
      "Epoch 23/70\n",
      "4303/4303 [==============================] - 0s 10us/step - loss: 3.5385e-04 - acc: 4.6479e-04 - val_loss: 3.5096e-04 - val_acc: 0.0000e+00\n",
      "Epoch 24/70\n",
      "4303/4303 [==============================] - 0s 7us/step - loss: 3.3511e-04 - acc: 4.6479e-04 - val_loss: 3.3146e-04 - val_acc: 0.0000e+00\n",
      "Epoch 25/70\n",
      "4303/4303 [==============================] - 0s 8us/step - loss: 3.1418e-04 - acc: 4.6479e-04 - val_loss: 3.0959e-04 - val_acc: 0.0000e+00\n",
      "Epoch 26/70\n",
      "4303/4303 [==============================] - 0s 8us/step - loss: 2.9245e-04 - acc: 4.6479e-04 - val_loss: 2.8844e-04 - val_acc: 0.0000e+00\n",
      "Epoch 27/70\n",
      "4303/4303 [==============================] - 0s 8us/step - loss: 2.6991e-04 - acc: 4.6479e-04 - val_loss: 2.6561e-04 - val_acc: 0.0000e+00\n",
      "Epoch 28/70\n",
      "4303/4303 [==============================] - 0s 8us/step - loss: 2.4877e-04 - acc: 4.6479e-04 - val_loss: 2.4738e-04 - val_acc: 0.0000e+00\n",
      "Epoch 29/70\n",
      "4303/4303 [==============================] - 0s 8us/step - loss: 2.2982e-04 - acc: 4.6479e-04 - val_loss: 2.2889e-04 - val_acc: 0.0000e+00\n",
      "Epoch 30/70\n",
      "4303/4303 [==============================] - 0s 8us/step - loss: 2.1222e-04 - acc: 4.6479e-04 - val_loss: 2.1304e-04 - val_acc: 0.0000e+00\n",
      "Epoch 31/70\n",
      "4303/4303 [==============================] - 0s 7us/step - loss: 1.9655e-04 - acc: 4.6479e-04 - val_loss: 1.9797e-04 - val_acc: 0.0000e+00\n",
      "Epoch 32/70\n",
      "4303/4303 [==============================] - 0s 8us/step - loss: 1.8246e-04 - acc: 4.6479e-04 - val_loss: 1.8552e-04 - val_acc: 0.0000e+00\n",
      "Epoch 33/70\n",
      "4303/4303 [==============================] - 0s 9us/step - loss: 1.6935e-04 - acc: 4.6479e-04 - val_loss: 1.7353e-04 - val_acc: 0.0000e+00\n",
      "Epoch 34/70\n",
      "4303/4303 [==============================] - 0s 7us/step - loss: 1.5819e-04 - acc: 4.6479e-04 - val_loss: 1.6356e-04 - val_acc: 0.0000e+00\n",
      "Epoch 35/70\n",
      "4303/4303 [==============================] - 0s 7us/step - loss: 1.4714e-04 - acc: 4.6479e-04 - val_loss: 1.5206e-04 - val_acc: 0.0000e+00\n",
      "Epoch 36/70\n",
      "4303/4303 [==============================] - 0s 8us/step - loss: 1.3734e-04 - acc: 4.6479e-04 - val_loss: 1.4514e-04 - val_acc: 0.0000e+00\n",
      "Epoch 37/70\n",
      "4303/4303 [==============================] - 0s 8us/step - loss: 1.2823e-04 - acc: 4.6479e-04 - val_loss: 1.3507e-04 - val_acc: 0.0000e+00\n",
      "Epoch 38/70\n",
      "4303/4303 [==============================] - 0s 7us/step - loss: 1.1964e-04 - acc: 4.6479e-04 - val_loss: 1.2785e-04 - val_acc: 0.0000e+00\n",
      "Epoch 39/70\n",
      "4303/4303 [==============================] - 0s 6us/step - loss: 1.1129e-04 - acc: 4.6479e-04 - val_loss: 1.1993e-04 - val_acc: 0.0000e+00\n",
      "Epoch 40/70\n",
      "4303/4303 [==============================] - 0s 7us/step - loss: 1.0401e-04 - acc: 4.6479e-04 - val_loss: 1.1278e-04 - val_acc: 0.0000e+00\n",
      "Epoch 41/70\n",
      "4303/4303 [==============================] - 0s 9us/step - loss: 9.7596e-05 - acc: 4.6479e-04 - val_loss: 1.0628e-04 - val_acc: 0.0000e+00\n",
      "Epoch 42/70\n",
      "4303/4303 [==============================] - 0s 7us/step - loss: 9.1281e-05 - acc: 4.6479e-04 - val_loss: 1.0266e-04 - val_acc: 0.0000e+00\n",
      "Epoch 43/70\n",
      "4303/4303 [==============================] - 0s 7us/step - loss: 8.5867e-05 - acc: 4.6479e-04 - val_loss: 9.4637e-05 - val_acc: 0.0000e+00\n",
      "Epoch 44/70\n",
      "4303/4303 [==============================] - 0s 9us/step - loss: 8.0901e-05 - acc: 4.6479e-04 - val_loss: 9.0048e-05 - val_acc: 0.0000e+00\n",
      "Epoch 45/70\n",
      "4303/4303 [==============================] - 0s 8us/step - loss: 7.6543e-05 - acc: 4.6479e-04 - val_loss: 8.8481e-05 - val_acc: 0.0000e+00\n",
      "Epoch 46/70\n",
      "4303/4303 [==============================] - 0s 6us/step - loss: 7.2598e-05 - acc: 4.6479e-04 - val_loss: 8.1160e-05 - val_acc: 0.0000e+00\n",
      "Epoch 47/70\n",
      "4303/4303 [==============================] - 0s 9us/step - loss: 6.8590e-05 - acc: 4.6479e-04 - val_loss: 7.7573e-05 - val_acc: 0.0000e+00\n",
      "Epoch 48/70\n",
      "4303/4303 [==============================] - 0s 10us/step - loss: 6.5812e-05 - acc: 4.6479e-04 - val_loss: 7.6484e-05 - val_acc: 0.0000e+00\n",
      "Epoch 49/70\n",
      "4303/4303 [==============================] - 0s 8us/step - loss: 6.2704e-05 - acc: 4.6479e-04 - val_loss: 7.0473e-05 - val_acc: 0.0000e+00\n",
      "Epoch 50/70\n",
      "4303/4303 [==============================] - 0s 10us/step - loss: 5.9942e-05 - acc: 4.6479e-04 - val_loss: 6.9676e-05 - val_acc: 0.0000e+00\n",
      "Epoch 51/70\n",
      "4303/4303 [==============================] - 0s 9us/step - loss: 5.8576e-05 - acc: 4.6479e-04 - val_loss: 6.5183e-05 - val_acc: 0.0000e+00\n",
      "Epoch 52/70\n",
      "4303/4303 [==============================] - 0s 10us/step - loss: 5.6660e-05 - acc: 4.6479e-04 - val_loss: 6.3196e-05 - val_acc: 0.0000e+00\n",
      "Epoch 53/70\n",
      "4303/4303 [==============================] - 0s 7us/step - loss: 5.5070e-05 - acc: 4.6479e-04 - val_loss: 6.6809e-05 - val_acc: 0.0000e+00\n",
      "Epoch 54/70\n",
      "4303/4303 [==============================] - 0s 8us/step - loss: 5.3106e-05 - acc: 4.6479e-04 - val_loss: 5.9363e-05 - val_acc: 0.0000e+00\n",
      "Epoch 55/70\n"
     ]
    },
    {
     "name": "stdout",
     "output_type": "stream",
     "text": [
      "4303/4303 [==============================] - 0s 7us/step - loss: 5.1329e-05 - acc: 4.6479e-04 - val_loss: 5.8611e-05 - val_acc: 0.0000e+00\n",
      "Epoch 56/70\n",
      "4303/4303 [==============================] - 0s 8us/step - loss: 4.9965e-05 - acc: 4.6479e-04 - val_loss: 5.7405e-05 - val_acc: 0.0000e+00\n",
      "Epoch 57/70\n",
      "4303/4303 [==============================] - 0s 7us/step - loss: 4.8528e-05 - acc: 4.6479e-04 - val_loss: 5.6071e-05 - val_acc: 0.0000e+00\n",
      "Epoch 58/70\n",
      "4303/4303 [==============================] - 0s 9us/step - loss: 4.7505e-05 - acc: 4.6479e-04 - val_loss: 5.3840e-05 - val_acc: 0.0000e+00\n",
      "Epoch 59/70\n",
      "4303/4303 [==============================] - 0s 8us/step - loss: 4.6505e-05 - acc: 4.6479e-04 - val_loss: 5.3323e-05 - val_acc: 0.0000e+00\n",
      "Epoch 60/70\n",
      "4303/4303 [==============================] - 0s 8us/step - loss: 4.5437e-05 - acc: 4.6479e-04 - val_loss: 5.1991e-05 - val_acc: 0.0000e+00\n",
      "Epoch 61/70\n",
      "4303/4303 [==============================] - 0s 9us/step - loss: 4.4684e-05 - acc: 4.6479e-04 - val_loss: 5.0997e-05 - val_acc: 0.0000e+00\n",
      "Epoch 62/70\n",
      "4303/4303 [==============================] - 0s 10us/step - loss: 4.3866e-05 - acc: 4.6479e-04 - val_loss: 4.9680e-05 - val_acc: 0.0000e+00\n",
      "Epoch 63/70\n",
      "4303/4303 [==============================] - 0s 9us/step - loss: 4.2916e-05 - acc: 4.6479e-04 - val_loss: 4.8643e-05 - val_acc: 0.0000e+00\n",
      "Epoch 64/70\n",
      "4303/4303 [==============================] - 0s 8us/step - loss: 4.2157e-05 - acc: 4.6479e-04 - val_loss: 4.8342e-05 - val_acc: 0.0000e+00\n",
      "Epoch 65/70\n",
      "4303/4303 [==============================] - 0s 8us/step - loss: 4.1420e-05 - acc: 4.6479e-04 - val_loss: 4.6409e-05 - val_acc: 0.0000e+00\n",
      "Epoch 66/70\n",
      "4303/4303 [==============================] - 0s 7us/step - loss: 4.1111e-05 - acc: 4.6479e-04 - val_loss: 4.5707e-05 - val_acc: 0.0000e+00\n",
      "Epoch 67/70\n",
      "4303/4303 [==============================] - 0s 5us/step - loss: 4.0508e-05 - acc: 4.6479e-04 - val_loss: 4.4937e-05 - val_acc: 0.0000e+00\n",
      "Epoch 68/70\n",
      "4303/4303 [==============================] - 0s 6us/step - loss: 3.9723e-05 - acc: 4.6479e-04 - val_loss: 4.5177e-05 - val_acc: 0.0000e+00\n",
      "Epoch 69/70\n",
      "4303/4303 [==============================] - 0s 10us/step - loss: 3.9179e-05 - acc: 4.6479e-04 - val_loss: 4.4589e-05 - val_acc: 0.0000e+00\n",
      "Epoch 70/70\n",
      "4303/4303 [==============================] - 0s 8us/step - loss: 3.8605e-05 - acc: 4.6479e-04 - val_loss: 4.3353e-05 - val_acc: 0.0000e+00\n"
     ]
    },
    {
     "data": {
      "text/plain": [
       "<keras.callbacks.History at 0x7f9686209470>"
      ]
     },
     "execution_count": 18,
     "metadata": {},
     "output_type": "execute_result"
    }
   ],
   "source": [
    "#Initializing Neural Network\n",
    "\n",
    "model = Sequential()\n",
    "model.add(Dense(units = 36, kernel_initializer = 'uniform', activation = 'relu', input_dim = feature_count))\n",
    "model.add(Dense(units = 36, kernel_initializer = 'uniform', activation = 'relu'))\n",
    "model.add(Dense(units = 1, kernel_initializer = 'uniform', activation = 'linear'))\n",
    "\n",
    "# Compiling Neural Network\n",
    "model.compile(loss='mse',optimizer='adam', metrics=['accuracy'])\n",
    "\n",
    "# Fitting our model \n",
    "model.fit(X_train, Y_train, batch_size = 512, epochs = 70, validation_split=0.1, verbose=1)"
   ]
  },
  {
   "cell_type": "markdown",
   "metadata": {},
   "source": [
    "We can measure the quality of our model using [MSE](https://en.wikipedia.org/wiki/Mean_squared_error) and [RMSE](https://en.wikipedia.org/wiki/Root-mean-square_deviation):"
   ]
  },
  {
   "cell_type": "code",
   "execution_count": 19,
   "metadata": {},
   "outputs": [
    {
     "name": "stdout",
     "output_type": "stream",
     "text": [
      "Model Score: 0.00004 MSE (0.01 RMSE)\n"
     ]
    }
   ],
   "source": [
    "import math\n",
    "\n",
    "score = model.evaluate(X_test, Y_test, verbose=0)\n",
    "print('Model Score: %.5f MSE (%.2f RMSE)' % (score[0], math.sqrt(score[0])))"
   ]
  },
  {
   "cell_type": "markdown",
   "metadata": {},
   "source": [
    "Finally, let's plot prediction vs actual data.\n",
    "\n",
    "Prior to normalisation, we undo scaling and perform a sort for graph quality:"
   ]
  },
  {
   "cell_type": "code",
   "execution_count": 47,
   "metadata": {},
   "outputs": [
    {
     "data": {
      "image/png": "[encoded data removed]",
      "text/plain": [
       "<Figure size 432x288 with 1 Axes>"
      ]
     },
     "metadata": {},
     "output_type": "display_data"
    }
   ],
   "source": [
    "import matplotlib.pyplot as plt2\n",
    "\n",
    "prediction_sorted = scaler.inverse_transform(model.predict(X_test))\n",
    "prediction_sorted.sort(axis=0)\n",
    "\n",
    "Y_test_sorted = scaler.inverse_transform(Y_test.copy().reshape(-1, 1))\n",
    "Y_test_sorted.sort(axis=0)\n",
    "\n",
    "plt2.plot(prediction_sorted, color='red', label='Prediction')\n",
    "plt2.plot(Y_test_sorted, color='blue', label='Actual')\n",
    "plt2.xlabel('#sample')\n",
    "plt2.ylabel('close value')\n",
    "plt2.legend(loc='best')\n",
    "plt2.show()"
   ]
  }
 ],
 "metadata": {
  "kernelspec": {
   "display_name": "Python 3",
   "language": "python",
   "name": "python3"
  },
  "language_info": {
   "codemirror_mode": {
    "name": "ipython",
    "version": 3
   },
   "file_extension": ".py",
   "mimetype": "text/x-python",
   "name": "python",
   "nbconvert_exporter": "python",
   "pygments_lexer": "ipython3",
   "version": "3.6.5"
  }
 },
 "nbformat": 4,
 "nbformat_minor": 2
}
