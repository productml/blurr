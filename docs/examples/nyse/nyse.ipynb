{
 "cells": [
  {
   "cell_type": "markdown",
   "metadata": {},
   "source": [
    "# NYSE & Blurr\n",
    "\n",
    "In this guide we will train a machine learning model that predicts closing price of a stock based on historical data. We will transform time-series stock data into features to train this model. \n",
    "\n",
    "## Prerequisites\n",
    "\n",
    "It's recommended to have a basic understanding of how Blurr works. Following [tutorials 1](http://productml-blurr.readthedocs.io/en/latest/Streaming%20DTC%20Tutorial/) and [2](http://productml-blurr.readthedocs.io/en/latest/Window%20DTC%20Tutorial/) should provide enough background context.\n",
    "\n",
    "\n",
    "## Preparation\n",
    "\n",
    "Let's start by installing `Blurr` and other required dependencies (using requirements.txt):"
   ]
  },
  {
   "cell_type": "code",
   "execution_count": 1,
   "metadata": {},
   "outputs": [
    {
     "name": "stdout",
     "output_type": "stream",
     "text": [
      "installing blurr and other required dependencies...\n",
      "done.\n"
     ]
    }
   ],
   "source": [
    "import sys\n",
    "\n",
    "print(\"installing blurr and other required dependencies...\")\n",
    "!{sys.executable} -m pip install blurr --quiet\n",
    "!{sys.executable} -m pip install -r requirements.txt --quiet\n",
    "print(\"done.\")"
   ]
  },
  {
   "cell_type": "markdown",
   "metadata": {},
   "source": [
    "## The Dataset\n",
    "\n",
    "This walkthrough is based on [New York Stock Exchange Data](https://www.kaggle.com/dgawlik/nyse/data) made available for [Kaggle challenges](https://www.kaggle.com/dgawlik/nyse).\n",
    "\n",
    "Let's start by downloading and having a peek at the available data: "
   ]
  },
  {
   "cell_type": "code",
   "execution_count": 2,
   "metadata": {
    "scrolled": false
   },
   "outputs": [
    {
     "name": "stdout",
     "output_type": "stream",
     "text": [
      "--2018-05-12 03:25:09--  http://demo.productml.com/data/nyse-input-data.json.zip\n",
      "Resolving demo.productml.com (demo.productml.com)... 52.218.208.187\n",
      "Connecting to demo.productml.com (demo.productml.com)|52.218.208.187|:80... connected.\n",
      "HTTP request sent, awaiting response... 200 OK\n",
      "Length: 3941552 (3.8M) [application/zip]\n",
      "Saving to: 'nyse-input-data.json.zip'\n",
      "\n",
      "nyse-input-data.jso 100%[===================>]   3.76M  1.44MB/s    in 2.6s    \n",
      "\n",
      "2018-05-12 03:25:12 (1.44 MB/s) - 'nyse-input-data.json.zip' saved [3941552/3941552]\n",
      "\n",
      "Archive:  nyse-input-data.json.zip\n",
      "  inflating: ./nyse-input-data.json  \n"
     ]
    }
   ],
   "source": [
    "!wget http://demo.productml.com/data/nyse-input-data.json.zip\n",
    "!unzip -o nyse-input-data.json.zip -d ."
   ]
  },
  {
   "cell_type": "code",
   "execution_count": 3,
   "metadata": {},
   "outputs": [
    {
     "data": {
      "text/html": [
       "<div>\n",
       "<style scoped>\n",
       "    .dataframe tbody tr th:only-of-type {\n",
       "        vertical-align: middle;\n",
       "    }\n",
       "\n",
       "    .dataframe tbody tr th {\n",
       "        vertical-align: top;\n",
       "    }\n",
       "\n",
       "    .dataframe thead th {\n",
       "        text-align: right;\n",
       "    }\n",
       "</style>\n",
       "<table border=\"1\" class=\"dataframe\">\n",
       "  <thead>\n",
       "    <tr style=\"text-align: right;\">\n",
       "      <th></th>\n",
       "      <th>datetime</th>\n",
       "      <th>price</th>\n",
       "      <th>symbol</th>\n",
       "      <th>volume</th>\n",
       "    </tr>\n",
       "  </thead>\n",
       "  <tbody>\n",
       "    <tr>\n",
       "      <th>0</th>\n",
       "      <td>2010-01-04 16:13:57</td>\n",
       "      <td>30.340000</td>\n",
       "      <td>AAPL</td>\n",
       "      <td>18286281</td>\n",
       "    </tr>\n",
       "    <tr>\n",
       "      <th>1</th>\n",
       "      <td>2010-01-04 14:05:17</td>\n",
       "      <td>30.642857</td>\n",
       "      <td>AAPL</td>\n",
       "      <td>18857727</td>\n",
       "    </tr>\n",
       "    <tr>\n",
       "      <th>2</th>\n",
       "      <td>2010-01-04 02:10:17</td>\n",
       "      <td>30.490000</td>\n",
       "      <td>AAPL</td>\n",
       "      <td>40572687</td>\n",
       "    </tr>\n",
       "    <tr>\n",
       "      <th>3</th>\n",
       "      <td>2010-01-04 20:52:52</td>\n",
       "      <td>30.572857</td>\n",
       "      <td>AAPL</td>\n",
       "      <td>571446</td>\n",
       "    </tr>\n",
       "    <tr>\n",
       "      <th>4</th>\n",
       "      <td>2010-01-04 10:53:39</td>\n",
       "      <td>30.461485</td>\n",
       "      <td>AAPL</td>\n",
       "      <td>25143637</td>\n",
       "    </tr>\n",
       "  </tbody>\n",
       "</table>\n",
       "</div>"
      ],
      "text/plain": [
       "             datetime      price symbol    volume\n",
       "0 2010-01-04 16:13:57  30.340000   AAPL  18286281\n",
       "1 2010-01-04 14:05:17  30.642857   AAPL  18857727\n",
       "2 2010-01-04 02:10:17  30.490000   AAPL  40572687\n",
       "3 2010-01-04 20:52:52  30.572857   AAPL    571446\n",
       "4 2010-01-04 10:53:39  30.461485   AAPL  25143637"
      ]
     },
     "execution_count": 3,
     "metadata": {},
     "output_type": "execute_result"
    }
   ],
   "source": [
    "import pandas as pd\n",
    "\n",
    "stocks = pd.read_json(\"./nyse-input-data.json\", lines=True)\n",
    "stocks.head()"
   ]
  },
  {
   "cell_type": "markdown",
   "metadata": {},
   "source": [
    "This dataset contains data for each market day.\n",
    "\n",
    "Our **goal is to predict closing price** of a stock for any given day based on historical data. In order to do that, we need to transform our original data source into **features** that can be used for training.\n",
    "\n",
    "We'll calculate **moving averages** and other aggregate data for different **time windows**: one, three and seven days.\n",
    "\n",
    "## Blurr Templates\n",
    "\n",
    "We perform initial aggregations of our data by day with [nyse-streaming-dtc.yml](./nyse-streaming-dtc.yml). Features are then computed using [nyse-window-dtc.yml](./nyse-window-dtc.yml) for each stock per day."
   ]
  },
  {
   "cell_type": "code",
   "execution_count": 4,
   "metadata": {},
   "outputs": [
    {
     "name": "stdout",
     "output_type": "stream",
     "text": [
      "Type: Blurr:Transform:Streaming\r\n",
      "Version: '2018-03-01'\r\n",
      "Description: New York Store Exchange Transformations\r\n",
      "Name: nyse\r\n",
      "\r\n",
      "Import:\r\n",
      "  - { Module: dateutil.parser, Identifiers: [ parse ]}\r\n",
      "\r\n",
      "Identity: source.symbol\r\n",
      "\r\n",
      "Time: parse(source.datetime)\r\n",
      "\r\n",
      "Stores:\r\n",
      "  - Type: Blurr:Store:Memory\r\n",
      "    Name: memory\r\n",
      "\r\n",
      "Aggregates:\r\n",
      "  - Type: Blurr:Aggregate:Block\r\n",
      "    Name: stats\r\n",
      "    Store: memory\r\n",
      "    Split: time.date() != stats.latest_tradetime.date()\r\n",
      "    When: source.symbol in ['AAPL', 'MSFT', 'GOOG', 'FB']\r\n",
      "    Fields:\r\n",
      "      - Name: close\r\n",
      "        Type: float\r\n",
      "        Value: source.price\r\n",
      "\r\n",
      "      - Name: high\r\n",
      "        Type: float\r\n",
      "        Value: source.price\r\n",
      "        When: source.price >= stats.high\r\n",
      "    \r\n",
      "      - Name: low\r\n",
      "        Type: float\r\n",
      "        Value: source.price\r\n",
      "        When: (stats.low == 0 or source.price < stats.low)\r\n",
      "\r\n",
      "      - Name: volatility\r\n",
      "        Type: float\r\n",
      "        Value: (float(stats.high) / float(stats.low)) - 1\r\n",
      "        When: stats.low > 0\r\n",
      "\r\n",
      "      - Name: volume\r\n",
      "        Type: float\r\n",
      "        Value: stats.volume + source.volume\r\n",
      "\r\n",
      "      - Name: latest_tradetime\r\n",
      "        Type: datetime\r\n",
      "        Value: time"
     ]
    }
   ],
   "source": [
    "!cat 'nyse-streaming-dtc.yml'"
   ]
  },
  {
   "cell_type": "markdown",
   "metadata": {},
   "source": [
    "**Streaming DTC**\n",
    "\n",
    "We're predicting values for tech companies only (Apple, Facebook, Microsoft, Google):\n",
    "\n",
    "```yaml\n",
    "When: source.symbol in ['AAPL', 'MSFT', 'GOOG', 'FB']\n",
    "```\n",
    "\n",
    "Each record in the original dataset represents a single stock transaction. By setting `Split: str(time.date()) != stats.date` we'll create a new aggregate for each day per stock.\n"
   ]
  },
  {
   "cell_type": "code",
   "execution_count": 5,
   "metadata": {
    "scrolled": true
   },
   "outputs": [
    {
     "name": "stdout",
     "output_type": "stream",
     "text": [
      "Type: Blurr:Transform:Window\r\n",
      "Version: '2018-03-01'\r\n",
      "Name: moving_averages\r\n",
      "\r\n",
      "SourceDTC: nyse\r\n",
      "\r\n",
      "Anchor:\r\n",
      "  Condition: nyse.stats.volatility < 0.04\r\n",
      "\r\n",
      "Aggregates:\r\n",
      "\r\n",
      "\r\n",
      "  - Type: Blurr:Aggregate:Window\r\n",
      "    Name: close\r\n",
      "    WindowType: count\r\n",
      "    WindowValue: 1\r\n",
      "    Source: nyse.stats\r\n",
      "    Fields:\r\n",
      "    - Name: value\r\n",
      "      Type: float\r\n",
      "      Value: anchor.close # the anchor object represents the record that matches the anchor condition\r\n",
      "\r\n",
      "  - Type: Blurr:Aggregate:Window\r\n",
      "    Name: last\r\n",
      "    WindowType: count\r\n",
      "    WindowValue: -1\r\n",
      "    Source: nyse.stats\r\n",
      "    Fields:\r\n",
      "    - Name: close\r\n",
      "      Type: float\r\n",
      "      Value: source.close[0]\r\n",
      "    - Name: volume\r\n",
      "      Type: float\r\n",
      "      Value: source.volume[0]\r\n",
      "    - Name: volatility\r\n",
      "      Type: float\r\n",
      "      Value: source.volatility[0]\r\n",
      "\r\n",
      "  - Type: Blurr:Aggregate:Window\r\n",
      "    Name: last_3\r\n",
      "    WindowType: count\r\n",
      "    WindowValue: -3\r\n",
      "    Source: nyse.stats\r\n",
      "    Fields:\r\n",
      "    - Name: close_avg\r\n",
      "      Type: float\r\n",
      "      Value: sum(source.close) / len(source.close)\r\n",
      "    - Name: volume_avg\r\n",
      "      Type: float\r\n",
      "      Value: sum(source.volume) / len(source.volume)\r\n",
      "    - Name: volatility_avg\r\n",
      "      Type: float\r\n",
      "      Value: sum(source.volatility) / len(source.volatility)\r\n",
      "    - Name: max_volatility\r\n",
      "      Type: float\r\n",
      "      Value: max(source.volatility)\r\n",
      "    - Name: min_volatility\r\n",
      "      Type: float\r\n",
      "      Value: min(source.volatility)\r\n",
      "\r\n",
      "  - Type: Blurr:Aggregate:Window\r\n",
      "    Name: last_7\r\n",
      "    WindowType: count\r\n",
      "    WindowValue: -7\r\n",
      "    Source: nyse.stats\r\n",
      "    Fields:\r\n",
      "    - Name: close_avg\r\n",
      "      Type: float\r\n",
      "      Value: sum(source.close) / len(source.close)\r\n",
      "    - Name: volume_avg\r\n",
      "      Type: float\r\n",
      "      Value: sum(source.volume) / len(source.volume)\r\n",
      "    - Name: volatility_avg\r\n",
      "      Type: float\r\n",
      "      Value: sum(source.volatility) / len(source.volatility)\r\n",
      "    - Name: max_volatility\r\n",
      "      Type: float\r\n",
      "      Value: max(source.volatility)\r\n",
      "    - Name: min_volatility\r\n",
      "      Type: float\r\n",
      "      Value: min(source.volatility)\r\n"
     ]
    }
   ],
   "source": [
    "!cat 'nyse-window-dtc.yml'"
   ]
  },
  {
   "cell_type": "markdown",
   "metadata": {},
   "source": [
    "**Window DTC**\n",
    "\n",
    "We'll use a very rough criteria to remove outliers: our model will only work when closing price changes less than a 4%:\n",
    "\n",
    "```yaml\n",
    "Anchor:\n",
    "  Condition: nyse.stats.volatility < 0.04\n",
    "```\n",
    "\n",
    "We're using [moving averages](https://www.investopedia.com/terms/m/movingaverage.asp) to generate features based on historical data about a stock:\n",
    "\n",
    "```yaml\n",
    "- Type: Blurr:Aggregate:Window\n",
    "    Name: last_7\n",
    "    WindowType: count\n",
    "    WindowValue: -7\n",
    "    Source: nyse.stats\n",
    "    Fields:\n",
    "    - Name: close_avg\n",
    "      Type: float\n",
    "      Value: sum(source.close) / len(source.close)\n",
    "```\n",
    "\n",
    "\n",
    "## Transforming Data\n",
    "\n"
   ]
  },
  {
   "cell_type": "code",
   "execution_count": 6,
   "metadata": {},
   "outputs": [
    {
     "name": "stdout",
     "output_type": "stream",
     "text": [
      "Running syntax validation on nyse-streaming-dtc.yml\n",
      "Document is valid\n",
      "Running syntax validation on nyse-window-dtc.yml\n",
      "Document is valid\n"
     ]
    }
   ],
   "source": [
    "from blurr_util import print_head, validate, transform\n",
    "\n",
    "validate('nyse-streaming-dtc.yml')\n",
    "validate('nyse-window-dtc.yml')"
   ]
  },
  {
   "cell_type": "markdown",
   "metadata": {},
   "source": [
    "Let's run our Streaming DTC for informational purposes only, so we can preview the result of the transformation:"
   ]
  },
  {
   "cell_type": "code",
   "execution_count": 7,
   "metadata": {},
   "outputs": [],
   "source": [
    "transform(log_files=[\"./nyse-input-data.json\"],\n",
    "          stream_dtc='./nyse-streaming-dtc.yml',\n",
    "          output_file=\"./nyse-streaming-dtc-out.log\")"
   ]
  },
  {
   "cell_type": "code",
   "execution_count": 8,
   "metadata": {},
   "outputs": [
    {
     "data": {
      "text/html": [
       "<table><tr><th>_identity<th><th>_start_time<th><th>_end_time<th><th>close<th><th>high<th><th>low<th><th>volatility<th><th>volume<th><th>latest_tradetime<th></tr><tr><td>AAPL<td><td>2010-01-04T02:10:17<td><td>2010-01-04T20:52:52<td><td>30.5728568571<td><td>30.6428565714<td><td>30.3400001428<td><td>0.009982083954336085<td><td>123432398.0<td><td>2010-01-04T20:52:52<td></tr><tr><td>AAPL<td><td>2010-01-05T05:39:04<td><td>2010-01-05T15:50:33<td><td>30.6257132857<td><td>30.7985705714<td><td>30.4642848571<td><td>0.010973036651542811<td><td>150476197.0<td><td>2010-01-05T15:50:33<td></tr><tr><td>AAPL<td><td>2010-01-06T00:21:34<td><td>2010-01-06T14:53:46<td><td>30.1385707143<td><td>30.7471428571<td><td>30.1071434285<td><td>0.02125739461533116<td><td>138039997.0<td><td>2010-01-06T14:53:46<td></tr><tr><td>AAPL<td><td>2010-01-07T00:28:48<td><td>2010-01-07T22:19:33<td><td>30.0828571428<td><td>30.2857151428<td><td>29.8642864285<td><td>0.014111461035875461<td><td>119282796.0<td><td>2010-01-07T22:19:33<td></tr></table>"
      ],
      "text/plain": [
       "<IPython.core.display.HTML object>"
      ]
     },
     "metadata": {},
     "output_type": "display_data"
    }
   ],
   "source": [
    "print_head(\"./nyse-streaming-dtc-out.log\")"
   ]
  },
  {
   "cell_type": "code",
   "execution_count": 9,
   "metadata": {},
   "outputs": [],
   "source": [
    "transform(log_files=[\"./nyse-input-data.json\"],\n",
    "          stream_dtc='./nyse-streaming-dtc.yml',\n",
    "          window_dtc='./nyse-window-dtc.yml',\n",
    "          output_file=\"./nyse-processed-data.csv\")"
   ]
  },
  {
   "cell_type": "markdown",
   "metadata": {},
   "source": [
    "Let's now preview the data that will be used to **train our model**"
   ]
  },
  {
   "cell_type": "code",
   "execution_count": 10,
   "metadata": {},
   "outputs": [
    {
     "data": {
      "text/html": [
       "<div>\n",
       "<style scoped>\n",
       "    .dataframe tbody tr th:only-of-type {\n",
       "        vertical-align: middle;\n",
       "    }\n",
       "\n",
       "    .dataframe tbody tr th {\n",
       "        vertical-align: top;\n",
       "    }\n",
       "\n",
       "    .dataframe thead th {\n",
       "        text-align: right;\n",
       "    }\n",
       "</style>\n",
       "<table border=\"1\" class=\"dataframe\">\n",
       "  <thead>\n",
       "    <tr style=\"text-align: right;\">\n",
       "      <th></th>\n",
       "      <th>close._identity</th>\n",
       "      <th>close.value</th>\n",
       "      <th>last._identity</th>\n",
       "      <th>last.close</th>\n",
       "      <th>last.volatility</th>\n",
       "      <th>last.volume</th>\n",
       "      <th>last_3._identity</th>\n",
       "      <th>last_3.close_avg</th>\n",
       "      <th>last_3.max_volatility</th>\n",
       "      <th>last_3.min_volatility</th>\n",
       "      <th>last_3.volatility_avg</th>\n",
       "      <th>last_3.volume_avg</th>\n",
       "      <th>last_7._identity</th>\n",
       "      <th>last_7.close_avg</th>\n",
       "      <th>last_7.max_volatility</th>\n",
       "      <th>last_7.min_volatility</th>\n",
       "      <th>last_7.volatility_avg</th>\n",
       "      <th>last_7.volume_avg</th>\n",
       "    </tr>\n",
       "  </thead>\n",
       "  <tbody>\n",
       "    <tr>\n",
       "      <th>0</th>\n",
       "      <td>AAPL</td>\n",
       "      <td>30.092857</td>\n",
       "      <td>AAPL</td>\n",
       "      <td>29.674286</td>\n",
       "      <td>0.016229</td>\n",
       "      <td>148614895.0</td>\n",
       "      <td>AAPL</td>\n",
       "      <td>29.990953</td>\n",
       "      <td>0.021828</td>\n",
       "      <td>0.014063</td>\n",
       "      <td>0.017373</td>\n",
       "      <td>1.253583e+08</td>\n",
       "      <td>AAPL</td>\n",
       "      <td>30.198979</td>\n",
       "      <td>0.021828</td>\n",
       "      <td>0.009982</td>\n",
       "      <td>0.015492</td>\n",
       "      <td>1.296152e+08</td>\n",
       "    </tr>\n",
       "    <tr>\n",
       "      <th>1</th>\n",
       "      <td>AAPL</td>\n",
       "      <td>29.918571</td>\n",
       "      <td>AAPL</td>\n",
       "      <td>30.092857</td>\n",
       "      <td>0.033464</td>\n",
       "      <td>151472995.0</td>\n",
       "      <td>AAPL</td>\n",
       "      <td>29.927619</td>\n",
       "      <td>0.033464</td>\n",
       "      <td>0.016229</td>\n",
       "      <td>0.023840</td>\n",
       "      <td>1.385484e+08</td>\n",
       "      <td>AAPL</td>\n",
       "      <td>30.130408</td>\n",
       "      <td>0.033464</td>\n",
       "      <td>0.010973</td>\n",
       "      <td>0.018847</td>\n",
       "      <td>1.336210e+08</td>\n",
       "    </tr>\n",
       "    <tr>\n",
       "      <th>2</th>\n",
       "      <td>AAPL</td>\n",
       "      <td>29.418571</td>\n",
       "      <td>AAPL</td>\n",
       "      <td>29.918571</td>\n",
       "      <td>0.006889</td>\n",
       "      <td>108223497.0</td>\n",
       "      <td>AAPL</td>\n",
       "      <td>29.895238</td>\n",
       "      <td>0.033464</td>\n",
       "      <td>0.006889</td>\n",
       "      <td>0.018861</td>\n",
       "      <td>1.361038e+08</td>\n",
       "      <td>AAPL</td>\n",
       "      <td>30.029388</td>\n",
       "      <td>0.033464</td>\n",
       "      <td>0.006889</td>\n",
       "      <td>0.018263</td>\n",
       "      <td>1.275849e+08</td>\n",
       "    </tr>\n",
       "    <tr>\n",
       "      <th>3</th>\n",
       "      <td>AAPL</td>\n",
       "      <td>30.719999</td>\n",
       "      <td>AAPL</td>\n",
       "      <td>29.418571</td>\n",
       "      <td>0.027833</td>\n",
       "      <td>148516897.0</td>\n",
       "      <td>AAPL</td>\n",
       "      <td>29.810000</td>\n",
       "      <td>0.033464</td>\n",
       "      <td>0.006889</td>\n",
       "      <td>0.022729</td>\n",
       "      <td>1.360711e+08</td>\n",
       "      <td>AAPL</td>\n",
       "      <td>29.926531</td>\n",
       "      <td>0.033464</td>\n",
       "      <td>0.006889</td>\n",
       "      <td>0.019203</td>\n",
       "      <td>1.290816e+08</td>\n",
       "    </tr>\n",
       "    <tr>\n",
       "      <th>4</th>\n",
       "      <td>AAPL</td>\n",
       "      <td>30.247143</td>\n",
       "      <td>AAPL</td>\n",
       "      <td>30.719999</td>\n",
       "      <td>0.038361</td>\n",
       "      <td>182501898.0</td>\n",
       "      <td>AAPL</td>\n",
       "      <td>30.019047</td>\n",
       "      <td>0.038361</td>\n",
       "      <td>0.006889</td>\n",
       "      <td>0.024361</td>\n",
       "      <td>1.464141e+08</td>\n",
       "      <td>AAPL</td>\n",
       "      <td>30.017551</td>\n",
       "      <td>0.038361</td>\n",
       "      <td>0.006889</td>\n",
       "      <td>0.022667</td>\n",
       "      <td>1.381129e+08</td>\n",
       "    </tr>\n",
       "  </tbody>\n",
       "</table>\n",
       "</div>"
      ],
      "text/plain": [
       "  close._identity  close.value last._identity  last.close  last.volatility  \\\n",
       "0            AAPL    30.092857           AAPL   29.674286         0.016229   \n",
       "1            AAPL    29.918571           AAPL   30.092857         0.033464   \n",
       "2            AAPL    29.418571           AAPL   29.918571         0.006889   \n",
       "3            AAPL    30.719999           AAPL   29.418571         0.027833   \n",
       "4            AAPL    30.247143           AAPL   30.719999         0.038361   \n",
       "\n",
       "   last.volume last_3._identity  last_3.close_avg  last_3.max_volatility  \\\n",
       "0  148614895.0             AAPL         29.990953               0.021828   \n",
       "1  151472995.0             AAPL         29.927619               0.033464   \n",
       "2  108223497.0             AAPL         29.895238               0.033464   \n",
       "3  148516897.0             AAPL         29.810000               0.033464   \n",
       "4  182501898.0             AAPL         30.019047               0.038361   \n",
       "\n",
       "   last_3.min_volatility  last_3.volatility_avg  last_3.volume_avg  \\\n",
       "0               0.014063               0.017373       1.253583e+08   \n",
       "1               0.016229               0.023840       1.385484e+08   \n",
       "2               0.006889               0.018861       1.361038e+08   \n",
       "3               0.006889               0.022729       1.360711e+08   \n",
       "4               0.006889               0.024361       1.464141e+08   \n",
       "\n",
       "  last_7._identity  last_7.close_avg  last_7.max_volatility  \\\n",
       "0             AAPL         30.198979               0.021828   \n",
       "1             AAPL         30.130408               0.033464   \n",
       "2             AAPL         30.029388               0.033464   \n",
       "3             AAPL         29.926531               0.033464   \n",
       "4             AAPL         30.017551               0.038361   \n",
       "\n",
       "   last_7.min_volatility  last_7.volatility_avg  last_7.volume_avg  \n",
       "0               0.009982               0.015492       1.296152e+08  \n",
       "1               0.010973               0.018847       1.336210e+08  \n",
       "2               0.006889               0.018263       1.275849e+08  \n",
       "3               0.006889               0.019203       1.290816e+08  \n",
       "4               0.006889               0.022667       1.381129e+08  "
      ]
     },
     "execution_count": 10,
     "metadata": {},
     "output_type": "execute_result"
    }
   ],
   "source": [
    "window_out = pd.read_csv(\"./nyse-processed-data.csv\")\n",
    "window_out.head()"
   ]
  },
  {
   "cell_type": "markdown",
   "metadata": {},
   "source": [
    "## Modelling\n",
    "\n",
    "**Blurr** is about Data Preparation and Feature Engineering. Modeling is included here for illustration purpose, and the reader can use any modeling library or tool for such purpose.\n",
    "\n",
    "Let's start by importing the output of our Window DTC as the source dataset. We're dropping unnecessary `_identity` columns:"
   ]
  },
  {
   "cell_type": "code",
   "execution_count": 11,
   "metadata": {},
   "outputs": [
    {
     "data": {
      "text/html": [
       "<div>\n",
       "<style scoped>\n",
       "    .dataframe tbody tr th:only-of-type {\n",
       "        vertical-align: middle;\n",
       "    }\n",
       "\n",
       "    .dataframe tbody tr th {\n",
       "        vertical-align: top;\n",
       "    }\n",
       "\n",
       "    .dataframe thead th {\n",
       "        text-align: right;\n",
       "    }\n",
       "</style>\n",
       "<table border=\"1\" class=\"dataframe\">\n",
       "  <thead>\n",
       "    <tr style=\"text-align: right;\">\n",
       "      <th></th>\n",
       "      <th>last.close</th>\n",
       "      <th>last.volatility</th>\n",
       "      <th>last.volume</th>\n",
       "      <th>last_3.close_avg</th>\n",
       "      <th>last_3.max_volatility</th>\n",
       "      <th>last_3.min_volatility</th>\n",
       "      <th>last_3.volatility_avg</th>\n",
       "      <th>last_3.volume_avg</th>\n",
       "      <th>last_7.close_avg</th>\n",
       "      <th>last_7.max_volatility</th>\n",
       "      <th>last_7.min_volatility</th>\n",
       "      <th>last_7.volatility_avg</th>\n",
       "      <th>last_7.volume_avg</th>\n",
       "      <th>close</th>\n",
       "    </tr>\n",
       "  </thead>\n",
       "  <tbody>\n",
       "    <tr>\n",
       "      <th>0</th>\n",
       "      <td>29.674286</td>\n",
       "      <td>0.016229</td>\n",
       "      <td>148614895.0</td>\n",
       "      <td>29.990953</td>\n",
       "      <td>0.021828</td>\n",
       "      <td>0.014063</td>\n",
       "      <td>0.017373</td>\n",
       "      <td>1.253583e+08</td>\n",
       "      <td>30.198979</td>\n",
       "      <td>0.021828</td>\n",
       "      <td>0.009982</td>\n",
       "      <td>0.015492</td>\n",
       "      <td>1.296152e+08</td>\n",
       "      <td>30.092857</td>\n",
       "    </tr>\n",
       "    <tr>\n",
       "      <th>1</th>\n",
       "      <td>30.092857</td>\n",
       "      <td>0.033464</td>\n",
       "      <td>151472995.0</td>\n",
       "      <td>29.927619</td>\n",
       "      <td>0.033464</td>\n",
       "      <td>0.016229</td>\n",
       "      <td>0.023840</td>\n",
       "      <td>1.385484e+08</td>\n",
       "      <td>30.130408</td>\n",
       "      <td>0.033464</td>\n",
       "      <td>0.010973</td>\n",
       "      <td>0.018847</td>\n",
       "      <td>1.336210e+08</td>\n",
       "      <td>29.918571</td>\n",
       "    </tr>\n",
       "    <tr>\n",
       "      <th>2</th>\n",
       "      <td>29.918571</td>\n",
       "      <td>0.006889</td>\n",
       "      <td>108223497.0</td>\n",
       "      <td>29.895238</td>\n",
       "      <td>0.033464</td>\n",
       "      <td>0.006889</td>\n",
       "      <td>0.018861</td>\n",
       "      <td>1.361038e+08</td>\n",
       "      <td>30.029388</td>\n",
       "      <td>0.033464</td>\n",
       "      <td>0.006889</td>\n",
       "      <td>0.018263</td>\n",
       "      <td>1.275849e+08</td>\n",
       "      <td>29.418571</td>\n",
       "    </tr>\n",
       "    <tr>\n",
       "      <th>3</th>\n",
       "      <td>29.418571</td>\n",
       "      <td>0.027833</td>\n",
       "      <td>148516897.0</td>\n",
       "      <td>29.810000</td>\n",
       "      <td>0.033464</td>\n",
       "      <td>0.006889</td>\n",
       "      <td>0.022729</td>\n",
       "      <td>1.360711e+08</td>\n",
       "      <td>29.926531</td>\n",
       "      <td>0.033464</td>\n",
       "      <td>0.006889</td>\n",
       "      <td>0.019203</td>\n",
       "      <td>1.290816e+08</td>\n",
       "      <td>30.719999</td>\n",
       "    </tr>\n",
       "    <tr>\n",
       "      <th>4</th>\n",
       "      <td>30.719999</td>\n",
       "      <td>0.038361</td>\n",
       "      <td>182501898.0</td>\n",
       "      <td>30.019047</td>\n",
       "      <td>0.038361</td>\n",
       "      <td>0.006889</td>\n",
       "      <td>0.024361</td>\n",
       "      <td>1.464141e+08</td>\n",
       "      <td>30.017551</td>\n",
       "      <td>0.038361</td>\n",
       "      <td>0.006889</td>\n",
       "      <td>0.022667</td>\n",
       "      <td>1.381129e+08</td>\n",
       "      <td>30.247143</td>\n",
       "    </tr>\n",
       "  </tbody>\n",
       "</table>\n",
       "</div>"
      ],
      "text/plain": [
       "   last.close  last.volatility  last.volume  last_3.close_avg  \\\n",
       "0   29.674286         0.016229  148614895.0         29.990953   \n",
       "1   30.092857         0.033464  151472995.0         29.927619   \n",
       "2   29.918571         0.006889  108223497.0         29.895238   \n",
       "3   29.418571         0.027833  148516897.0         29.810000   \n",
       "4   30.719999         0.038361  182501898.0         30.019047   \n",
       "\n",
       "   last_3.max_volatility  last_3.min_volatility  last_3.volatility_avg  \\\n",
       "0               0.021828               0.014063               0.017373   \n",
       "1               0.033464               0.016229               0.023840   \n",
       "2               0.033464               0.006889               0.018861   \n",
       "3               0.033464               0.006889               0.022729   \n",
       "4               0.038361               0.006889               0.024361   \n",
       "\n",
       "   last_3.volume_avg  last_7.close_avg  last_7.max_volatility  \\\n",
       "0       1.253583e+08         30.198979               0.021828   \n",
       "1       1.385484e+08         30.130408               0.033464   \n",
       "2       1.361038e+08         30.029388               0.033464   \n",
       "3       1.360711e+08         29.926531               0.033464   \n",
       "4       1.464141e+08         30.017551               0.038361   \n",
       "\n",
       "   last_7.min_volatility  last_7.volatility_avg  last_7.volume_avg      close  \n",
       "0               0.009982               0.015492       1.296152e+08  30.092857  \n",
       "1               0.010973               0.018847       1.336210e+08  29.918571  \n",
       "2               0.006889               0.018263       1.275849e+08  29.418571  \n",
       "3               0.006889               0.019203       1.290816e+08  30.719999  \n",
       "4               0.006889               0.022667       1.381129e+08  30.247143  "
      ]
     },
     "execution_count": 11,
     "metadata": {},
     "output_type": "execute_result"
    }
   ],
   "source": [
    "import numpy as np\n",
    "import matplotlib.pyplot as plt\n",
    "import pandas as pd\n",
    "\n",
    "def import_dataset():\n",
    "    data = pd.read_csv(\"./nyse-processed-data.csv\")\n",
    "    data[\"close\"] = data[\"close.value\"] # Moving close to the last column\n",
    "    data.drop(['close.value'], 1, inplace=True) \n",
    "    data.drop(['close._identity'], 1, inplace=True) \n",
    "    data.drop(['last._identity'], 1, inplace=True) \n",
    "    data.drop(['last_3._identity'], 1, inplace=True) \n",
    "    data.drop(['last_7._identity'], 1, inplace=True) \n",
    "    return data\n",
    "\n",
    "dataset = import_dataset()\n",
    "dataset.head()"
   ]
  },
  {
   "cell_type": "markdown",
   "metadata": {},
   "source": [
    "Each column represents a Feature, except the rightmost column which represents the Output we're trying to predic"
   ]
  },
  {
   "cell_type": "code",
   "execution_count": 12,
   "metadata": {},
   "outputs": [
    {
     "name": "stdout",
     "output_type": "stream",
     "text": [
      "#features=13\n"
     ]
    }
   ],
   "source": [
    "feature_count = len(dataset.columns) - 1\n",
    "print(\"#features=\" + str(feature_count))"
   ]
  },
  {
   "cell_type": "markdown",
   "metadata": {},
   "source": [
    "We're splitting our dataset into Input Variables (`X`) and the Output Variable (`Y`) using pandas' [`iloc` function](http://pandas.pydata.org/pandas-docs/version/0.17.0/generated/pandas.DataFrame.iloc.html):"
   ]
  },
  {
   "cell_type": "code",
   "execution_count": 13,
   "metadata": {},
   "outputs": [
    {
     "name": "stdout",
     "output_type": "stream",
     "text": [
      "(5978, 13)\n"
     ]
    }
   ],
   "source": [
    "X = dataset.iloc[:, 0:feature_count].values\n",
    "print(X.shape)"
   ]
  },
  {
   "cell_type": "code",
   "execution_count": 14,
   "metadata": {},
   "outputs": [
    {
     "name": "stdout",
     "output_type": "stream",
     "text": [
      "(5978,)\n"
     ]
    }
   ],
   "source": [
    "Y = dataset.iloc[:, feature_count].values\n",
    "print(Y.shape)"
   ]
  },
  {
   "cell_type": "markdown",
   "metadata": {},
   "source": [
    "We need to split between train and test datasets for training and evaluation of the model:"
   ]
  },
  {
   "cell_type": "code",
   "execution_count": 15,
   "metadata": {},
   "outputs": [],
   "source": [
    "from sklearn.model_selection import train_test_split\n",
    "\n",
    "X_train_raw, X_test_raw, Y_train_raw, Y_test_raw = train_test_split(X, Y, test_size = 0.2)"
   ]
  },
  {
   "cell_type": "markdown",
   "metadata": {},
   "source": [
    "Finally, we need to  scale our data before training:"
   ]
  },
  {
   "cell_type": "code",
   "execution_count": 16,
   "metadata": {},
   "outputs": [],
   "source": [
    "from sklearn.preprocessing import MinMaxScaler\n",
    "\n",
    "scaler = MinMaxScaler()\n",
    "X_train = scaler.fit_transform(X_train_raw)\n",
    "X_test = scaler.transform(X_test_raw)\n",
    "Y_train = scaler.fit_transform(Y_train_raw.reshape(-1, 1))\n",
    "Y_test = scaler.transform(Y_test_raw.reshape(-1, 1))"
   ]
  },
  {
   "cell_type": "markdown",
   "metadata": {},
   "source": [
    "It's now time to build and train our model:"
   ]
  },
  {
   "cell_type": "code",
   "execution_count": 17,
   "metadata": {},
   "outputs": [
    {
     "name": "stderr",
     "output_type": "stream",
     "text": [
      "/Users/vigneshbadrinathkrishna/Documents/Jupyter/temp/lib/python3.6/site-packages/h5py/__init__.py:36: FutureWarning: Conversion of the second argument of issubdtype from `float` to `np.floating` is deprecated. In future, it will be treated as `np.float64 == np.dtype(float).type`.\n",
      "  from ._conv import register_converters as _register_converters\n",
      "Using TensorFlow backend.\n"
     ]
    }
   ],
   "source": [
    "# Importing the Keras libraries and packages\n",
    "\n",
    "import keras\n",
    "from keras.models import Sequential\n",
    "from keras.layers import Dense"
   ]
  },
  {
   "cell_type": "code",
   "execution_count": 18,
   "metadata": {},
   "outputs": [
    {
     "name": "stdout",
     "output_type": "stream",
     "text": [
      "Train on 4303 samples, validate on 479 samples\n",
      "Epoch 1/70\n",
      "4303/4303 [==============================] - 0s 46us/step - loss: 0.1025 - acc: 0.0000e+00 - val_loss: 0.0775 - val_acc: 0.0021\n",
      "Epoch 2/70\n",
      "4303/4303 [==============================] - 0s 4us/step - loss: 0.0942 - acc: 0.0000e+00 - val_loss: 0.0686 - val_acc: 0.0021\n",
      "Epoch 3/70\n",
      "4303/4303 [==============================] - 0s 4us/step - loss: 0.0813 - acc: 0.0000e+00 - val_loss: 0.0563 - val_acc: 0.0021\n",
      "Epoch 4/70\n",
      "4303/4303 [==============================] - 0s 4us/step - loss: 0.0645 - acc: 0.0000e+00 - val_loss: 0.0449 - val_acc: 0.0021\n",
      "Epoch 5/70\n",
      "4303/4303 [==============================] - 0s 4us/step - loss: 0.0494 - acc: 0.0000e+00 - val_loss: 0.0391 - val_acc: 0.0021\n",
      "Epoch 6/70\n",
      "4303/4303 [==============================] - 0s 4us/step - loss: 0.0385 - acc: 0.0000e+00 - val_loss: 0.0277 - val_acc: 0.0021\n",
      "Epoch 7/70\n",
      "4303/4303 [==============================] - 0s 4us/step - loss: 0.0242 - acc: 2.3240e-04 - val_loss: 0.0145 - val_acc: 0.0021\n",
      "Epoch 8/70\n",
      "4303/4303 [==============================] - 0s 4us/step - loss: 0.0113 - acc: 2.3240e-04 - val_loss: 0.0053 - val_acc: 0.0021\n",
      "Epoch 9/70\n",
      "4303/4303 [==============================] - 0s 5us/step - loss: 0.0034 - acc: 2.3240e-04 - val_loss: 0.0016 - val_acc: 0.0021\n",
      "Epoch 10/70\n",
      "4303/4303 [==============================] - 0s 4us/step - loss: 0.0010 - acc: 2.3240e-04 - val_loss: 8.0088e-04 - val_acc: 0.0021\n",
      "Epoch 11/70\n",
      "4303/4303 [==============================] - 0s 5us/step - loss: 7.3606e-04 - acc: 2.3240e-04 - val_loss: 7.9738e-04 - val_acc: 0.0021\n",
      "Epoch 12/70\n",
      "4303/4303 [==============================] - 0s 4us/step - loss: 7.4681e-04 - acc: 2.3240e-04 - val_loss: 7.1321e-04 - val_acc: 0.0021\n",
      "Epoch 13/70\n",
      "4303/4303 [==============================] - 0s 4us/step - loss: 6.5283e-04 - acc: 2.3240e-04 - val_loss: 5.8154e-04 - val_acc: 0.0021\n",
      "Epoch 14/70\n",
      "4303/4303 [==============================] - 0s 5us/step - loss: 5.3614e-04 - acc: 2.3240e-04 - val_loss: 5.1272e-04 - val_acc: 0.0021\n",
      "Epoch 15/70\n",
      "4303/4303 [==============================] - 0s 4us/step - loss: 4.8915e-04 - acc: 2.3240e-04 - val_loss: 4.8887e-04 - val_acc: 0.0021\n",
      "Epoch 16/70\n",
      "4303/4303 [==============================] - 0s 4us/step - loss: 4.5884e-04 - acc: 2.3240e-04 - val_loss: 4.4613e-04 - val_acc: 0.0021\n",
      "Epoch 17/70\n",
      "4303/4303 [==============================] - 0s 4us/step - loss: 4.2753e-04 - acc: 2.3240e-04 - val_loss: 4.1493e-04 - val_acc: 0.0021\n",
      "Epoch 18/70\n",
      "4303/4303 [==============================] - 0s 4us/step - loss: 4.0553e-04 - acc: 2.3240e-04 - val_loss: 3.9318e-04 - val_acc: 0.0021\n",
      "Epoch 19/70\n",
      "4303/4303 [==============================] - 0s 4us/step - loss: 3.8638e-04 - acc: 2.3240e-04 - val_loss: 3.7563e-04 - val_acc: 0.0021\n",
      "Epoch 20/70\n",
      "4303/4303 [==============================] - 0s 4us/step - loss: 3.6760e-04 - acc: 2.3240e-04 - val_loss: 3.5841e-04 - val_acc: 0.0021\n",
      "Epoch 21/70\n",
      "4303/4303 [==============================] - 0s 4us/step - loss: 3.4842e-04 - acc: 2.3240e-04 - val_loss: 3.3985e-04 - val_acc: 0.0021\n",
      "Epoch 22/70\n",
      "4303/4303 [==============================] - 0s 4us/step - loss: 3.2932e-04 - acc: 2.3240e-04 - val_loss: 3.2005e-04 - val_acc: 0.0021\n",
      "Epoch 23/70\n",
      "4303/4303 [==============================] - 0s 4us/step - loss: 3.0877e-04 - acc: 2.3240e-04 - val_loss: 3.0079e-04 - val_acc: 0.0021\n",
      "Epoch 24/70\n",
      "4303/4303 [==============================] - 0s 4us/step - loss: 2.8941e-04 - acc: 2.3240e-04 - val_loss: 2.8071e-04 - val_acc: 0.0021\n",
      "Epoch 25/70\n",
      "4303/4303 [==============================] - 0s 4us/step - loss: 2.6856e-04 - acc: 2.3240e-04 - val_loss: 2.6227e-04 - val_acc: 0.0021\n",
      "Epoch 26/70\n",
      "4303/4303 [==============================] - 0s 4us/step - loss: 2.4924e-04 - acc: 2.3240e-04 - val_loss: 2.4349e-04 - val_acc: 0.0021\n",
      "Epoch 27/70\n",
      "4303/4303 [==============================] - 0s 4us/step - loss: 2.3008e-04 - acc: 2.3240e-04 - val_loss: 2.2409e-04 - val_acc: 0.0021\n",
      "Epoch 28/70\n",
      "4303/4303 [==============================] - 0s 5us/step - loss: 2.1201e-04 - acc: 2.3240e-04 - val_loss: 2.0661e-04 - val_acc: 0.0021\n",
      "Epoch 29/70\n",
      "4303/4303 [==============================] - 0s 4us/step - loss: 1.9386e-04 - acc: 2.3240e-04 - val_loss: 1.8931e-04 - val_acc: 0.0021\n",
      "Epoch 30/70\n",
      "4303/4303 [==============================] - 0s 4us/step - loss: 1.7755e-04 - acc: 2.3240e-04 - val_loss: 1.7436e-04 - val_acc: 0.0021\n",
      "Epoch 31/70\n",
      "4303/4303 [==============================] - 0s 4us/step - loss: 1.6193e-04 - acc: 2.3240e-04 - val_loss: 1.5940e-04 - val_acc: 0.0021\n",
      "Epoch 32/70\n",
      "4303/4303 [==============================] - 0s 4us/step - loss: 1.4812e-04 - acc: 2.3240e-04 - val_loss: 1.4754e-04 - val_acc: 0.0021\n",
      "Epoch 33/70\n",
      "4303/4303 [==============================] - 0s 4us/step - loss: 1.3705e-04 - acc: 2.3240e-04 - val_loss: 1.3818e-04 - val_acc: 0.0021\n",
      "Epoch 34/70\n",
      "4303/4303 [==============================] - 0s 4us/step - loss: 1.2689e-04 - acc: 2.3240e-04 - val_loss: 1.2781e-04 - val_acc: 0.0021\n",
      "Epoch 35/70\n",
      "4303/4303 [==============================] - 0s 4us/step - loss: 1.1788e-04 - acc: 2.3240e-04 - val_loss: 1.2091e-04 - val_acc: 0.0021\n",
      "Epoch 36/70\n",
      "4303/4303 [==============================] - 0s 4us/step - loss: 1.0975e-04 - acc: 2.3240e-04 - val_loss: 1.1201e-04 - val_acc: 0.0021\n",
      "Epoch 37/70\n",
      "4303/4303 [==============================] - 0s 4us/step - loss: 1.0235e-04 - acc: 2.3240e-04 - val_loss: 1.0453e-04 - val_acc: 0.0021\n",
      "Epoch 38/70\n",
      "4303/4303 [==============================] - 0s 4us/step - loss: 9.5748e-05 - acc: 2.3240e-04 - val_loss: 9.8943e-05 - val_acc: 0.0021\n",
      "Epoch 39/70\n",
      "4303/4303 [==============================] - 0s 4us/step - loss: 9.0075e-05 - acc: 2.3240e-04 - val_loss: 9.3020e-05 - val_acc: 0.0021\n",
      "Epoch 40/70\n",
      "4303/4303 [==============================] - 0s 4us/step - loss: 8.4809e-05 - acc: 2.3240e-04 - val_loss: 8.7891e-05 - val_acc: 0.0021\n",
      "Epoch 41/70\n",
      "4303/4303 [==============================] - 0s 4us/step - loss: 8.0412e-05 - acc: 2.3240e-04 - val_loss: 8.3260e-05 - val_acc: 0.0021\n",
      "Epoch 42/70\n",
      "4303/4303 [==============================] - 0s 4us/step - loss: 7.6413e-05 - acc: 2.3240e-04 - val_loss: 8.0566e-05 - val_acc: 0.0021\n",
      "Epoch 43/70\n",
      "4303/4303 [==============================] - 0s 4us/step - loss: 7.2809e-05 - acc: 2.3240e-04 - val_loss: 7.6273e-05 - val_acc: 0.0021\n",
      "Epoch 44/70\n",
      "4303/4303 [==============================] - 0s 4us/step - loss: 6.9614e-05 - acc: 2.3240e-04 - val_loss: 7.2717e-05 - val_acc: 0.0021\n",
      "Epoch 45/70\n",
      "4303/4303 [==============================] - 0s 4us/step - loss: 6.6499e-05 - acc: 2.3240e-04 - val_loss: 6.9950e-05 - val_acc: 0.0021\n",
      "Epoch 46/70\n",
      "4303/4303 [==============================] - 0s 4us/step - loss: 6.3570e-05 - acc: 2.3240e-04 - val_loss: 6.6740e-05 - val_acc: 0.0021\n",
      "Epoch 47/70\n",
      "4303/4303 [==============================] - 0s 5us/step - loss: 6.1582e-05 - acc: 2.3240e-04 - val_loss: 6.4343e-05 - val_acc: 0.0021\n",
      "Epoch 48/70\n",
      "4303/4303 [==============================] - 0s 5us/step - loss: 5.9359e-05 - acc: 2.3240e-04 - val_loss: 6.2669e-05 - val_acc: 0.0021\n",
      "Epoch 49/70\n",
      "4303/4303 [==============================] - 0s 5us/step - loss: 5.7216e-05 - acc: 2.3240e-04 - val_loss: 5.9803e-05 - val_acc: 0.0021\n",
      "Epoch 50/70\n",
      "4303/4303 [==============================] - 0s 5us/step - loss: 5.5511e-05 - acc: 2.3240e-04 - val_loss: 5.8672e-05 - val_acc: 0.0021\n",
      "Epoch 51/70\n",
      "4303/4303 [==============================] - 0s 5us/step - loss: 5.4430e-05 - acc: 2.3240e-04 - val_loss: 5.6377e-05 - val_acc: 0.0021\n",
      "Epoch 52/70\n",
      "4303/4303 [==============================] - 0s 4us/step - loss: 5.2620e-05 - acc: 2.3240e-04 - val_loss: 5.4984e-05 - val_acc: 0.0021\n",
      "Epoch 53/70\n",
      "4303/4303 [==============================] - 0s 5us/step - loss: 5.1474e-05 - acc: 2.3240e-04 - val_loss: 5.3884e-05 - val_acc: 0.0021\n",
      "Epoch 54/70\n",
      "4303/4303 [==============================] - 0s 4us/step - loss: 5.1241e-05 - acc: 2.3240e-04 - val_loss: 5.1820e-05 - val_acc: 0.0021\n",
      "Epoch 55/70\n",
      "4303/4303 [==============================] - 0s 4us/step - loss: 4.8984e-05 - acc: 2.3240e-04 - val_loss: 5.0553e-05 - val_acc: 0.0021\n",
      "Epoch 56/70\n",
      "4303/4303 [==============================] - 0s 4us/step - loss: 4.7987e-05 - acc: 2.3240e-04 - val_loss: 4.9232e-05 - val_acc: 0.0021\n"
     ]
    },
    {
     "name": "stdout",
     "output_type": "stream",
     "text": [
      "Epoch 57/70\n",
      "4303/4303 [==============================] - 0s 4us/step - loss: 4.7104e-05 - acc: 2.3240e-04 - val_loss: 4.8001e-05 - val_acc: 0.0021\n",
      "Epoch 58/70\n",
      "4303/4303 [==============================] - 0s 4us/step - loss: 4.6401e-05 - acc: 2.3240e-04 - val_loss: 4.7002e-05 - val_acc: 0.0021\n",
      "Epoch 59/70\n",
      "4303/4303 [==============================] - 0s 4us/step - loss: 4.6095e-05 - acc: 2.3240e-04 - val_loss: 4.6999e-05 - val_acc: 0.0021\n",
      "Epoch 60/70\n",
      "4303/4303 [==============================] - 0s 5us/step - loss: 4.4713e-05 - acc: 2.3240e-04 - val_loss: 4.5224e-05 - val_acc: 0.0021\n",
      "Epoch 61/70\n",
      "4303/4303 [==============================] - 0s 4us/step - loss: 4.3716e-05 - acc: 2.3240e-04 - val_loss: 4.4315e-05 - val_acc: 0.0021\n",
      "Epoch 62/70\n",
      "4303/4303 [==============================] - 0s 5us/step - loss: 4.3054e-05 - acc: 2.3240e-04 - val_loss: 4.3092e-05 - val_acc: 0.0021\n",
      "Epoch 63/70\n",
      "4303/4303 [==============================] - 0s 4us/step - loss: 4.2524e-05 - acc: 2.3240e-04 - val_loss: 4.2602e-05 - val_acc: 0.0021\n",
      "Epoch 64/70\n",
      "4303/4303 [==============================] - 0s 4us/step - loss: 4.1758e-05 - acc: 2.3240e-04 - val_loss: 4.1620e-05 - val_acc: 0.0021\n",
      "Epoch 65/70\n",
      "4303/4303 [==============================] - 0s 4us/step - loss: 4.1019e-05 - acc: 2.3240e-04 - val_loss: 4.0863e-05 - val_acc: 0.0021\n",
      "Epoch 66/70\n",
      "4303/4303 [==============================] - 0s 4us/step - loss: 4.0677e-05 - acc: 2.3240e-04 - val_loss: 4.0250e-05 - val_acc: 0.0021\n",
      "Epoch 67/70\n",
      "4303/4303 [==============================] - 0s 4us/step - loss: 4.0014e-05 - acc: 2.3240e-04 - val_loss: 4.0372e-05 - val_acc: 0.0021\n",
      "Epoch 68/70\n",
      "4303/4303 [==============================] - 0s 4us/step - loss: 4.0405e-05 - acc: 2.3240e-04 - val_loss: 3.9407e-05 - val_acc: 0.0021\n",
      "Epoch 69/70\n",
      "4303/4303 [==============================] - 0s 4us/step - loss: 3.9192e-05 - acc: 2.3240e-04 - val_loss: 3.8249e-05 - val_acc: 0.0021\n",
      "Epoch 70/70\n",
      "4303/4303 [==============================] - 0s 4us/step - loss: 3.9182e-05 - acc: 2.3240e-04 - val_loss: 3.8262e-05 - val_acc: 0.0021\n"
     ]
    },
    {
     "data": {
      "text/plain": [
       "<keras.callbacks.History at 0x10c743e80>"
      ]
     },
     "execution_count": 18,
     "metadata": {},
     "output_type": "execute_result"
    }
   ],
   "source": [
    "#Initializing Neural Network\n",
    "\n",
    "model = Sequential()\n",
    "model.add(Dense(units = 36, kernel_initializer = 'uniform', activation = 'relu', input_dim = feature_count))\n",
    "model.add(Dense(units = 36, kernel_initializer = 'uniform', activation = 'relu'))\n",
    "model.add(Dense(units = 1, kernel_initializer = 'uniform', activation = 'linear'))\n",
    "\n",
    "# Compiling Neural Network\n",
    "model.compile(loss='mse',optimizer='adam', metrics=['accuracy'])\n",
    "\n",
    "# Fitting our model \n",
    "model.fit(X_train, Y_train, batch_size = 512, epochs = 70, validation_split=0.1, verbose=1)"
   ]
  },
  {
   "cell_type": "markdown",
   "metadata": {},
   "source": [
    "We can measure the quality of our model using [MSE](https://en.wikipedia.org/wiki/Mean_squared_error) and [RMSE](https://en.wikipedia.org/wiki/Root-mean-square_deviation):"
   ]
  },
  {
   "cell_type": "code",
   "execution_count": 19,
   "metadata": {},
   "outputs": [
    {
     "name": "stdout",
     "output_type": "stream",
     "text": [
      "Model Score: 0.00004 MSE (0.01 RMSE)\n"
     ]
    }
   ],
   "source": [
    "import math\n",
    "\n",
    "score = model.evaluate(X_test, Y_test, verbose=0)\n",
    "print('Model Score: %.5f MSE (%.2f RMSE)' % (score[0], math.sqrt(score[0])))"
   ]
  },
  {
   "cell_type": "markdown",
   "metadata": {},
   "source": [
    "Finally, let's plot prediction vs actual data.\n",
    "\n",
    "Prior to normalisation, we undo scaling and perform a sort for graph quality:"
   ]
  },
  {
   "cell_type": "code",
   "execution_count": 20,
   "metadata": {},
   "outputs": [
    {
     "data": {
      "image/png": "[encoded data removed]",
      "text/plain": [
       "<Figure size 432x288 with 1 Axes>"
      ]
     },
     "metadata": {},
     "output_type": "display_data"
    }
   ],
   "source": [
    "import matplotlib.pyplot as plt2\n",
    "\n",
    "prediction_sorted = scaler.inverse_transform(model.predict(X_test))\n",
    "prediction_sorted.sort(axis=0)\n",
    "\n",
    "Y_test_sorted = scaler.inverse_transform(Y_test.copy().reshape(-1, 1))\n",
    "Y_test_sorted.sort(axis=0)\n",
    "\n",
    "plt2.plot(prediction_sorted, color='red', label='Prediction')\n",
    "plt2.plot(Y_test_sorted, color='blue', label='Actual')\n",
    "plt2.xlabel('#sample')\n",
    "plt2.ylabel('close value')\n",
    "plt2.legend(loc='best')\n",
    "plt2.show()"
   ]
  }
 ],
 "metadata": {
  "kernelspec": {
   "display_name": "Python 3",
   "language": "python",
   "name": "python3"
  },
  "language_info": {
   "codemirror_mode": {
    "name": "ipython",
    "version": 3
   },
   "file_extension": ".py",
   "mimetype": "text/x-python",
   "name": "python",
   "nbconvert_exporter": "python",
   "pygments_lexer": "ipython3",
   "version": "3.6.5"
  }
 },
 "nbformat": 4,
 "nbformat_minor": 2
}
