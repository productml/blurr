{
 "cells": [
  {
   "cell_type": "markdown",
   "metadata": {},
   "source": [
    "# Tutorial Examples\n",
    "\n",
    "This notebook contains data and code examples used in the tutorials:\n",
    "\n",
    "* [Tutorial 1: Streaming BTS](https://github.com/productml/blurr/blob/master/docs/Streaming%20BTS%20Tutorial.md)\n",
    "* [Tutorial 2: Window BTS](https://github.com/productml/blurr/blob/master/docs/Window%20BTS%20Tutorial.md)\n",
    "\n",
    "### Prerrequisite: Installing and configuring Blurr\n",
    "\n",
    "First of all we need to install Blurr using `pip`:"
   ]
  },
  {
   "cell_type": "code",
   "execution_count": null,
   "metadata": {},
   "outputs": [],
   "source": [
    "import sys\n",
    "\n",
    "!{sys.executable} -m pip uninstall blurr --yes &> /dev/null\n",
    "\n",
    "print(\"installing blurr...\")\n",
    "!{sys.executable} -m pip install blurr --quiet\n",
    "!{sys.executable} -m pip --version"
   ]
  },
  {
   "cell_type": "markdown",
   "metadata": {},
   "source": [
    "For this notebook we'll run the examples using Python:"
   ]
  },
  {
   "cell_type": "code",
   "execution_count": null,
   "metadata": {},
   "outputs": [],
   "source": [
    "from blurr.cli.validate import validate_command\n",
    "from blurr.cli.transform import transform as transform_command\n",
    "\n",
    "def validate(template):\n",
    "    validate_command([template])\n",
    "    \n",
    "def transform(events, streaming_bts, window_bts=None):\n",
    "    transform_command(streaming_bts, window_bts, [events])\n",
    "    "
   ]
  },
  {
   "cell_type": "markdown",
   "metadata": {},
   "source": [
    "Check [run_tutorial.sh](./run_tutorial.sh) for an example on how to run the `validate` and `transform` commands using the CLI.\n",
    "\n",
    "## Tutorial 1: Streaming BTS\n",
    "\n",
    "BTS validation:"
   ]
  },
  {
   "cell_type": "code",
   "execution_count": null,
   "metadata": {},
   "outputs": [],
   "source": [
    "validate('tutorial1-streaming-bts.yml')"
   ]
  },
  {
   "cell_type": "markdown",
   "metadata": {},
   "source": [
    "Streaming transformation:"
   ]
  },
  {
   "cell_type": "code",
   "execution_count": null,
   "metadata": {},
   "outputs": [],
   "source": [
    "transform('tutorial1-data.log', 'tutorial1-streaming-bts.yml')"
   ]
  },
  {
   "cell_type": "markdown",
   "metadata": {},
   "source": [
    "## Tutorial 2: Window BTS\n",
    "\n",
    "BTS validation:"
   ]
  },
  {
   "cell_type": "code",
   "execution_count": null,
   "metadata": {},
   "outputs": [],
   "source": [
    "validate('tutorial2-streaming-bts.yml')"
   ]
  },
  {
   "cell_type": "code",
   "execution_count": null,
   "metadata": {},
   "outputs": [],
   "source": [
    "validate('tutorial2-window-bts.yml')"
   ]
  },
  {
   "cell_type": "markdown",
   "metadata": {},
   "source": [
    "Window transformation:"
   ]
  },
  {
   "cell_type": "code",
   "execution_count": null,
   "metadata": {},
   "outputs": [],
   "source": [
    "transform('tutorial2-data.log', 'tutorial2-streaming-bts.yml', 'tutorial2-window-bts.yml')"
   ]
  },
  {
   "cell_type": "markdown",
   "metadata": {},
   "source": [
    "Let's also check the intermediate streaming transformation over `tutorial2-data.log`:"
   ]
  },
  {
   "cell_type": "code",
   "execution_count": null,
   "metadata": {},
   "outputs": [],
   "source": [
    "transform('tutorial2-data.log', 'tutorial2-streaming-bts.yml')"
   ]
  }
 ],
 "metadata": {
  "kernelspec": {
   "display_name": "Python 3",
   "language": "python",
   "name": "python3"
  },
  "language_info": {
   "codemirror_mode": {
    "name": "ipython",
    "version": 3
   },
   "file_extension": ".py",
   "mimetype": "text/x-python",
   "name": "python",
   "nbconvert_exporter": "python",
   "pygments_lexer": "ipython3",
   "version": "3.6.5"
  }
 },
 "nbformat": 4,
 "nbformat_minor": 2
}
